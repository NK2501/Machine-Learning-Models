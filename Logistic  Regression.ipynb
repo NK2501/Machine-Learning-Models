{
 "cells": [
  {
   "cell_type": "code",
   "execution_count": 31,
   "id": "61efddb5",
   "metadata": {},
   "outputs": [],
   "source": [
    "import pandas as pd\n",
    "import numpy as np\n",
    "from sklearn.linear_model import LinearRegression\n",
    "import matplotlib.pyplot as plt\n",
    "import seaborn as sns\n",
    "from sklearn.metrics import r2_score\n",
    "from sklearn.model_selection import train_test_split\n",
    "from sklearn.metrics import mean_absolute_error as mae\n",
    "from sklearn.metrics import mean_squared_error as mse\n",
    "from sklearn.linear_model import Ridge\n",
    "from sklearn.linear_model import Lasso\n",
    "from sklearn.linear_model import ElasticNet\n",
    "from sklearn.model_selection import KFold\n",
    "from sklearn.model_selection import cross_val_score\n",
    "from sklearn.model_selection import GridSearchCV\n",
    "import warnings\n",
    "warnings.filterwarnings(\"ignore\")\n",
    "from sklearn.preprocessing import StandardScaler\n",
    "from sklearn.metrics import confusion_matrix\n",
    "from sklearn.metrics import ConfusionMatrixDisplay,classification_report\n",
    "from sklearn.linear_model import LogisticRegression\n",
    "from sklearn.metrics import accuracy_score\n",
    "from sklearn.model_selection import StratifiedKFold\n",
    "from sklearn.model_selection import GridSearchCV\n",
    "from sklearn.metrics import roc_auc_score,roc_curve\n"
   ]
  },
  {
   "cell_type": "code",
   "execution_count": 32,
   "id": "3ecf6420",
   "metadata": {},
   "outputs": [],
   "source": [
    "glass = pd.read_csv(\"Glass.csv\")"
   ]
  },
  {
   "cell_type": "code",
   "execution_count": 33,
   "id": "b33e844d",
   "metadata": {},
   "outputs": [
    {
     "data": {
      "text/html": [
       "<div>\n",
       "<style scoped>\n",
       "    .dataframe tbody tr th:only-of-type {\n",
       "        vertical-align: middle;\n",
       "    }\n",
       "\n",
       "    .dataframe tbody tr th {\n",
       "        vertical-align: top;\n",
       "    }\n",
       "\n",
       "    .dataframe thead th {\n",
       "        text-align: right;\n",
       "    }\n",
       "</style>\n",
       "<table border=\"1\" class=\"dataframe\">\n",
       "  <thead>\n",
       "    <tr style=\"text-align: right;\">\n",
       "      <th></th>\n",
       "      <th>RI</th>\n",
       "      <th>Na</th>\n",
       "      <th>Mg</th>\n",
       "      <th>Al</th>\n",
       "      <th>Si</th>\n",
       "      <th>K</th>\n",
       "      <th>Ca</th>\n",
       "      <th>Ba</th>\n",
       "      <th>Fe</th>\n",
       "      <th>Type</th>\n",
       "    </tr>\n",
       "  </thead>\n",
       "  <tbody>\n",
       "    <tr>\n",
       "      <th>0</th>\n",
       "      <td>1.52101</td>\n",
       "      <td>13.64</td>\n",
       "      <td>4.49</td>\n",
       "      <td>1.10</td>\n",
       "      <td>71.78</td>\n",
       "      <td>0.06</td>\n",
       "      <td>8.75</td>\n",
       "      <td>0.00</td>\n",
       "      <td>0.0</td>\n",
       "      <td>building_windows_float_processed</td>\n",
       "    </tr>\n",
       "    <tr>\n",
       "      <th>1</th>\n",
       "      <td>1.51761</td>\n",
       "      <td>13.89</td>\n",
       "      <td>3.60</td>\n",
       "      <td>1.36</td>\n",
       "      <td>72.73</td>\n",
       "      <td>0.48</td>\n",
       "      <td>7.83</td>\n",
       "      <td>0.00</td>\n",
       "      <td>0.0</td>\n",
       "      <td>building_windows_float_processed</td>\n",
       "    </tr>\n",
       "    <tr>\n",
       "      <th>2</th>\n",
       "      <td>1.51618</td>\n",
       "      <td>13.53</td>\n",
       "      <td>3.55</td>\n",
       "      <td>1.54</td>\n",
       "      <td>72.99</td>\n",
       "      <td>0.39</td>\n",
       "      <td>7.78</td>\n",
       "      <td>0.00</td>\n",
       "      <td>0.0</td>\n",
       "      <td>building_windows_float_processed</td>\n",
       "    </tr>\n",
       "    <tr>\n",
       "      <th>3</th>\n",
       "      <td>1.51766</td>\n",
       "      <td>13.21</td>\n",
       "      <td>3.69</td>\n",
       "      <td>1.29</td>\n",
       "      <td>72.61</td>\n",
       "      <td>0.57</td>\n",
       "      <td>8.22</td>\n",
       "      <td>0.00</td>\n",
       "      <td>0.0</td>\n",
       "      <td>building_windows_float_processed</td>\n",
       "    </tr>\n",
       "    <tr>\n",
       "      <th>4</th>\n",
       "      <td>1.51742</td>\n",
       "      <td>13.27</td>\n",
       "      <td>3.62</td>\n",
       "      <td>1.24</td>\n",
       "      <td>73.08</td>\n",
       "      <td>0.55</td>\n",
       "      <td>8.07</td>\n",
       "      <td>0.00</td>\n",
       "      <td>0.0</td>\n",
       "      <td>building_windows_float_processed</td>\n",
       "    </tr>\n",
       "    <tr>\n",
       "      <th>...</th>\n",
       "      <td>...</td>\n",
       "      <td>...</td>\n",
       "      <td>...</td>\n",
       "      <td>...</td>\n",
       "      <td>...</td>\n",
       "      <td>...</td>\n",
       "      <td>...</td>\n",
       "      <td>...</td>\n",
       "      <td>...</td>\n",
       "      <td>...</td>\n",
       "    </tr>\n",
       "    <tr>\n",
       "      <th>209</th>\n",
       "      <td>1.51623</td>\n",
       "      <td>14.14</td>\n",
       "      <td>0.00</td>\n",
       "      <td>2.88</td>\n",
       "      <td>72.61</td>\n",
       "      <td>0.08</td>\n",
       "      <td>9.18</td>\n",
       "      <td>1.06</td>\n",
       "      <td>0.0</td>\n",
       "      <td>headlamps</td>\n",
       "    </tr>\n",
       "    <tr>\n",
       "      <th>210</th>\n",
       "      <td>1.51685</td>\n",
       "      <td>14.92</td>\n",
       "      <td>0.00</td>\n",
       "      <td>1.99</td>\n",
       "      <td>73.06</td>\n",
       "      <td>0.00</td>\n",
       "      <td>8.40</td>\n",
       "      <td>1.59</td>\n",
       "      <td>0.0</td>\n",
       "      <td>headlamps</td>\n",
       "    </tr>\n",
       "    <tr>\n",
       "      <th>211</th>\n",
       "      <td>1.52065</td>\n",
       "      <td>14.36</td>\n",
       "      <td>0.00</td>\n",
       "      <td>2.02</td>\n",
       "      <td>73.42</td>\n",
       "      <td>0.00</td>\n",
       "      <td>8.44</td>\n",
       "      <td>1.64</td>\n",
       "      <td>0.0</td>\n",
       "      <td>headlamps</td>\n",
       "    </tr>\n",
       "    <tr>\n",
       "      <th>212</th>\n",
       "      <td>1.51651</td>\n",
       "      <td>14.38</td>\n",
       "      <td>0.00</td>\n",
       "      <td>1.94</td>\n",
       "      <td>73.61</td>\n",
       "      <td>0.00</td>\n",
       "      <td>8.48</td>\n",
       "      <td>1.57</td>\n",
       "      <td>0.0</td>\n",
       "      <td>headlamps</td>\n",
       "    </tr>\n",
       "    <tr>\n",
       "      <th>213</th>\n",
       "      <td>1.51711</td>\n",
       "      <td>14.23</td>\n",
       "      <td>0.00</td>\n",
       "      <td>2.08</td>\n",
       "      <td>73.36</td>\n",
       "      <td>0.00</td>\n",
       "      <td>8.62</td>\n",
       "      <td>1.67</td>\n",
       "      <td>0.0</td>\n",
       "      <td>headlamps</td>\n",
       "    </tr>\n",
       "  </tbody>\n",
       "</table>\n",
       "<p>214 rows × 10 columns</p>\n",
       "</div>"
      ],
      "text/plain": [
       "          RI     Na    Mg    Al     Si     K    Ca    Ba   Fe  \\\n",
       "0    1.52101  13.64  4.49  1.10  71.78  0.06  8.75  0.00  0.0   \n",
       "1    1.51761  13.89  3.60  1.36  72.73  0.48  7.83  0.00  0.0   \n",
       "2    1.51618  13.53  3.55  1.54  72.99  0.39  7.78  0.00  0.0   \n",
       "3    1.51766  13.21  3.69  1.29  72.61  0.57  8.22  0.00  0.0   \n",
       "4    1.51742  13.27  3.62  1.24  73.08  0.55  8.07  0.00  0.0   \n",
       "..       ...    ...   ...   ...    ...   ...   ...   ...  ...   \n",
       "209  1.51623  14.14  0.00  2.88  72.61  0.08  9.18  1.06  0.0   \n",
       "210  1.51685  14.92  0.00  1.99  73.06  0.00  8.40  1.59  0.0   \n",
       "211  1.52065  14.36  0.00  2.02  73.42  0.00  8.44  1.64  0.0   \n",
       "212  1.51651  14.38  0.00  1.94  73.61  0.00  8.48  1.57  0.0   \n",
       "213  1.51711  14.23  0.00  2.08  73.36  0.00  8.62  1.67  0.0   \n",
       "\n",
       "                                 Type  \n",
       "0    building_windows_float_processed  \n",
       "1    building_windows_float_processed  \n",
       "2    building_windows_float_processed  \n",
       "3    building_windows_float_processed  \n",
       "4    building_windows_float_processed  \n",
       "..                                ...  \n",
       "209                         headlamps  \n",
       "210                         headlamps  \n",
       "211                         headlamps  \n",
       "212                         headlamps  \n",
       "213                         headlamps  \n",
       "\n",
       "[214 rows x 10 columns]"
      ]
     },
     "execution_count": 33,
     "metadata": {},
     "output_type": "execute_result"
    }
   ],
   "source": [
    "glass"
   ]
  },
  {
   "cell_type": "code",
   "execution_count": 34,
   "id": "f73106b6",
   "metadata": {},
   "outputs": [
    {
     "name": "stdout",
     "output_type": "stream",
     "text": [
      "[[-2.80806156e-02 -9.33395152e-01  1.55817490e+00 -1.94292468e+00\n",
      "   1.26415293e-01 -4.89666090e-01  3.19216333e-01 -7.74960291e-02\n",
      "  -5.72621065e-02]\n",
      " [ 4.70627074e-02 -4.00123339e-01  7.72209123e-01  8.97508065e-01\n",
      "   1.17187619e-02  2.39010567e-01  2.83047636e-01  3.28569294e-01\n",
      "   3.95083084e-01]\n",
      " [ 4.32142821e-03 -7.61228435e-01 -1.05735273e+00  1.21672154e+00\n",
      "   1.57647307e-01  1.29382578e+00 -1.37847666e-01 -3.15153077e-01\n",
      "   2.95972077e-02]\n",
      " [-3.74581983e-03  9.49049124e-01 -1.33860978e+00  3.52238024e-01\n",
      "  -6.01506538e-02 -2.82665677e-01 -6.69169505e-01  8.79276912e-01\n",
      "  -8.86432668e-02]\n",
      " [-3.20159735e-02  1.14583489e+00 -9.86004767e-01 -2.45232903e-01\n",
      "  -1.50064152e-01 -7.89689212e-01 -2.14058690e-01 -5.65437327e-01\n",
      "  -1.34843478e-01]\n",
      " [ 1.24582734e-02 -1.37091219e-04  1.05158326e+00 -2.78310039e-01\n",
      "  -8.55665556e-02  2.91846348e-02  4.18811892e-01 -2.49759774e-01\n",
      "  -1.43931441e-01]]\n",
      "[-0.02593631  0.03544373  0.00630385 -0.00584177 -0.02403771  0.01406822]\n",
      "0.5230769230769231\n"
     ]
    },
    {
     "data": {
      "image/png": "[encoded data removed]",
      "text/plain": [
       "<Figure size 640x480 with 2 Axes>"
      ]
     },
     "metadata": {},
     "output_type": "display_data"
    },
    {
     "name": "stdout",
     "output_type": "stream",
     "text": [
      "                                      precision    recall  f1-score   support\n",
      "\n",
      "    building_windows_float_processed       0.50      0.67      0.57        21\n",
      "building_windows_non_float_processed       0.47      0.35      0.40        23\n",
      "                          containers       0.57      1.00      0.73         4\n",
      "                           headlamps       0.89      0.89      0.89         9\n",
      "                           tableware       0.00      0.00      0.00         3\n",
      "     vehicle_windows_float_processed       0.00      0.00      0.00         5\n",
      "\n",
      "                            accuracy                           0.52        65\n",
      "                           macro avg       0.41      0.48      0.43        65\n",
      "                        weighted avg       0.49      0.52      0.49        65\n",
      "\n"
     ]
    }
   ],
   "source": [
    "glass = pd.read_csv(\"Glass.csv\")\n",
    "X = glass.drop('Type', axis=1)\n",
    "y = glass['Type']\n",
    "\n",
    "X_train, X_test, y_train, y_test = train_test_split(X, y, test_size=0.3,stratify=y,random_state=23)\n",
    "\n",
    "lr = LogisticRegression()\n",
    "lr.fit(X_train, y_train)\n",
    "print(lr.coef_)\n",
    "print(lr.intercept_)\n",
    "\n",
    "y_pred = lr.predict(X_test)\n",
    "print(accuracy_score(y_test, y_pred))  \n",
    "\n",
    "cm = confusion_matrix(y_test,y_pred)\n",
    "disp = ConfusionMatrixDisplay(cm,display_labels=y_test.unique())\n",
    "disp.plot()\n",
    "plt.xticks(rotation=90)\n",
    "plt.show()\n",
    "\n",
    "print(classification_report(y_test,y_pred))"
   ]
  },
  {
   "cell_type": "code",
   "execution_count": 35,
   "id": "21eeda82",
   "metadata": {},
   "outputs": [
    {
     "name": "stdout",
     "output_type": "stream",
     "text": [
      "{'l1_ratio': 1.0, 'penalty': None}\n",
      "0.4902547065337763\n"
     ]
    }
   ],
   "source": [
    "lr=LogisticRegression(solver='saga')\n",
    "kfold=StratifiedKFold(n_splits=5,shuffle=True,random_state=23)\n",
    "params={'penalty':['l1','l2','elasticnet',None],'l1_ratio':np.linspace(0,1,5)}\n",
    "gcv=GridSearchCV(lr,param_grid=params,cv=kfold)\n",
    "gcv.fit(X,y)\n",
    "print(gcv.best_params_)\n",
    "print(gcv.best_score_)"
   ]
  },
  {
   "cell_type": "code",
   "execution_count": 36,
   "id": "1c96205f",
   "metadata": {},
   "outputs": [],
   "source": [
    "bank=pd.read_csv(\"Bankruptcy.csv\",index_col=0)"
   ]
  },
  {
   "cell_type": "code",
   "execution_count": 41,
   "id": "cc19c0a1",
   "metadata": {},
   "outputs": [
    {
     "name": "stdout",
     "output_type": "stream",
     "text": [
      "{'l1_ratio': 0.0, 'penalty': 'l2', 'solver': 'newton-cg'}\n",
      "0.8684699915469146\n"
     ]
    }
   ],
   "source": [
    "    x = bank.drop(['D','YR'],axis = 1)\n",
    "    y = bank['D']\n",
    "\n",
    "    lr = LogisticRegression()\n",
    "    kfold = StratifiedKFold(n_splits=5,shuffle=True,random_state=23)\n",
    "    params = {'penalty':['l1','l2','elasticnet',None],'l1_ratio':np.linspace(0,1,5),\n",
    "              'solver':['lbfgs', 'liblinear', 'newton-cg', 'newton-cholesky', 'sag', 'saga']}\n",
    "\n",
    "    gcv = GridSearchCV(lr,param_grid=params,cv=kfold,scoring='roc_auc')\n",
    "    gcv.fit(x,y)\n",
    "    print(gcv.best_params_)\n",
    "    print(gcv.best_score_)"
   ]
  },
  {
   "cell_type": "code",
   "execution_count": 39,
   "id": "f188563e",
   "metadata": {},
   "outputs": [
    {
     "name": "stdout",
     "output_type": "stream",
     "text": [
      "{'l1_ratio': 0.0, 'multi_class': 'multinomial', 'penalty': 'l2', 'solver': 'lbfgs'}\n",
      "0.687895448979499\n"
     ]
    }
   ],
   "source": [
    "hr=pd.read_csv(\"HR_comma_sep.csv\")\n",
    "dum_hr=pd.get_dummies(hr,drop_first=True)\n",
    "lr=LogisticRegression(solver='saga')\n",
    "x=dum_hr.drop('left',axis=1)\n",
    "y=dum_hr['left']\n",
    "kfold=StratifiedKFold(n_splits=5,shuffle=True,random_state=23)\n",
    "params={'penalty':['l1','l2','elasticnet',None],'l1_ratio':np.linspace(0,1,5),'solver':['lbfgs','liblinear','newton_cg','newton_cholesky','sag','saga'],'multi_class':['ovr','multinomial']}\n",
    "gcv=GridSearchCV(lr,param_grid=params,cv=kfold,scoring='f1_macro')\n",
    "gcv.fit(x,y)\n",
    "print(gcv.best_params_)\n",
    "print(gcv.best_score_)"
   ]
  },
  {
   "cell_type": "code",
   "execution_count": 48,
   "id": "94bec095",
   "metadata": {},
   "outputs": [],
   "source": [
    "img=pd.read_csv(\"Image_Segmention.csv\")"
   ]
  },
  {
   "cell_type": "code",
   "execution_count": 49,
   "id": "d83a5310",
   "metadata": {},
   "outputs": [
    {
     "name": "stdout",
     "output_type": "stream",
     "text": [
      "{'l1_ratio': 0.0, 'multi_class': 'multinomial', 'penalty': 'l2', 'solver': 'newton-cg'}\n",
      "-0.5465926857569969\n"
     ]
    }
   ],
   "source": [
    "x=img.drop('Class',axis=1)\n",
    "y=img['Class']\n",
    "lr = LogisticRegression()\n",
    "kfold = StratifiedKFold(n_splits=5,shuffle=True,random_state=23)\n",
    "params = {'penalty':['l1','l2','elasticnet',None],'l1_ratio':np.linspace(0,1,5),\n",
    "              'solver':['lbfgs', 'liblinear', 'newton-cg', 'newton-cholesky', 'sag', 'saga'],'multi_class':['ovr','multinomial']}\n",
    "\n",
    "gcv = GridSearchCV(lr,param_grid=params,cv=kfold,scoring='neg_log_loss')\n",
    "gcv.fit(x,y)\n",
    "print(gcv.best_params_)\n",
    "print(gcv.best_score_)"
   ]
  },
  {
   "cell_type": "code",
   "execution_count": null,
   "id": "4c99a334",
   "metadata": {},
   "outputs": [],
   "source": []
  }
 ],
 "metadata": {
  "kernelspec": {
   "display_name": "Python 3 (ipykernel)",
   "language": "python",
   "name": "python3"
  },
  "language_info": {
   "codemirror_mode": {
    "name": "ipython",
    "version": 3
   },
   "file_extension": ".py",
   "mimetype": "text/x-python",
   "name": "python",
   "nbconvert_exporter": "python",
   "pygments_lexer": "ipython3",
   "version": "3.11.5"
  }
 },
 "nbformat": 4,
 "nbformat_minor": 5
}
