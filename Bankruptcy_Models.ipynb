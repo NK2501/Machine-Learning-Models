{
 "cells": [
  {
   "cell_type": "code",
   "execution_count": 24,
   "id": "5c4666c5",
   "metadata": {},
   "outputs": [],
   "source": [
    "import pandas as pd\n",
    "import numpy as np\n",
    "from sklearn.linear_model import LinearRegression\n",
    "import matplotlib.pyplot as plt\n",
    "import seaborn as sns\n",
    "from sklearn.metrics import r2_score\n",
    "from sklearn.model_selection import train_test_split\n",
    "from sklearn.metrics import mean_absolute_error as mae\n",
    "from sklearn.metrics import mean_squared_error as mse\n",
    "from sklearn.linear_model import Ridge\n",
    "from sklearn.linear_model import Lasso\n",
    "from sklearn.linear_model import ElasticNet\n",
    "from sklearn.model_selection import KFold\n",
    "from sklearn.model_selection import cross_val_score\n",
    "from sklearn.model_selection import GridSearchCV\n",
    "import warnings\n",
    "warnings.filterwarnings(\"ignore\")\n",
    "from sklearn.preprocessing import StandardScaler\n",
    "from sklearn.preprocessing import MinMaxScaler\n",
    "from sklearn.metrics import confusion_matrix\n",
    "from sklearn.metrics import ConfusionMatrixDisplay,classification_report\n",
    "from sklearn.linear_model import LogisticRegression\n",
    "from sklearn.metrics import accuracy_score,log_loss\n",
    "from sklearn.model_selection import StratifiedKFold\n",
    "from sklearn.model_selection import GridSearchCV\n",
    "from sklearn.metrics import roc_auc_score,roc_curve\n",
    "from sklearn.neighbors import KNeighborsClassifier\n",
    "from sklearn.neighbors import KNeighborsRegressor\n",
    "from sklearn.pipeline import Pipeline\n",
    "from sklearn.svm import SVC\n",
    "from sklearn.naive_bayes import GaussianNB\n",
    "from  sklearn.naive_bayes import BernoulliNB\n",
    "from sklearn.discriminant_analysis import LinearDiscriminantAnalysis\n",
    "from sklearn.discriminant_analysis import QuadraticDiscriminantAnalysis\n",
    "from sklearn.tree import DecisionTreeClassifier\n",
    "from sklearn.model_selection import train_test_split\n",
    "from sklearn.metrics import accuracy_score, log_loss\n",
    "from sklearn.tree import DecisionTreeClassifier,plot_tree,DecisionTreeRegressor\n",
    "from sklearn.preprocessing import LabelEncoder\n",
    "from sklearn.ensemble import GradientBoostingClassifier\n",
    "from sklearn.ensemble import StackingClassifier\n",
    "from sklearn.ensemble import VotingClassifier,VotingRegressor,BaggingClassifier,RandomForestClassifier,BaggingRegressor,RandomForestRegressor"
   ]
  },
  {
   "cell_type": "code",
   "execution_count": 3,
   "id": "5d389c97",
   "metadata": {},
   "outputs": [],
   "source": [
    "bank=pd.read_csv(\"Bankruptcy.csv\",index_col=0)"
   ]
  },
  {
   "cell_type": "markdown",
   "id": "fbe2116e",
   "metadata": {},
   "source": [
    "# Using Logistic Regression"
   ]
  },
  {
   "cell_type": "code",
   "execution_count": 4,
   "id": "5498c46b",
   "metadata": {},
   "outputs": [
    {
     "name": "stdout",
     "output_type": "stream",
     "text": [
      "{'l1_ratio': 0.0, 'penalty': 'l2', 'solver': 'newton-cg'}\n",
      "0.8684699915469146\n"
     ]
    }
   ],
   "source": [
    "x = bank.drop(['D','YR'],axis = 1)\n",
    "y = bank['D']\n",
    "\n",
    "lr = LogisticRegression()\n",
    "kfold = StratifiedKFold(n_splits=5,shuffle=True,random_state=23)\n",
    "params = {'penalty':['l1','l2','elasticnet',None],'l1_ratio':np.linspace(0,1,5),\n",
    "        'solver':['lbfgs', 'liblinear', 'newton-cg', 'newton-cholesky', 'sag', 'saga']}\n",
    "\n",
    "gcv = GridSearchCV(lr,param_grid=params,cv=kfold,scoring='roc_auc')\n",
    "gcv.fit(x,y)\n",
    "print(gcv.best_params_)\n",
    "print(gcv.best_score_)"
   ]
  },
  {
   "cell_type": "markdown",
   "id": "081de245",
   "metadata": {},
   "source": [
    "# Using Naive Bayes"
   ]
  },
  {
   "cell_type": "code",
   "execution_count": 31,
   "id": "7aa31eec",
   "metadata": {},
   "outputs": [
    {
     "name": "stdout",
     "output_type": "stream",
     "text": [
      "Accuracy_score: 0.725\n"
     ]
    }
   ],
   "source": [
    "bank=pd.read_csv(\"Bankruptcy.csv\",index_col=0)\n",
    "X=bank.drop(['D','YR'],axis=1)\n",
    "y=bank['D']\n",
    "X_train, X_test, y_train, y_test = train_test_split(X,y, \n",
    "                               test_size=0.3,\n",
    "                               stratify=y,\n",
    "                               random_state=23)\n",
    "nb = BernoulliNB()\n",
    "nb.fit(X_train, y_train)\n",
    "y_pred = nb.predict(X_test)\n",
    "y_pred_prob = nb.predict_proba(X_test)\n",
    "print(\"Accuracy_score:\",accuracy_score(y_test, y_pred))"
   ]
  },
  {
   "cell_type": "markdown",
   "id": "68bde0a5",
   "metadata": {},
   "source": [
    "# Using Random Forest"
   ]
  },
  {
   "cell_type": "code",
   "execution_count": 16,
   "id": "28d4f795",
   "metadata": {},
   "outputs": [
    {
     "name": "stdout",
     "output_type": "stream",
     "text": [
      "{'max_depth': 4, 'max_features': 13, 'min_samples_leaf': 5, 'min_samples_split': 20}\n",
      "-0.36585797887492166\n"
     ]
    }
   ],
   "source": [
    "bank=pd.read_csv(\"Bankruptcy.csv\",index_col=0)\n",
    "x=bank.drop(['D','YR'],axis=1)\n",
    "y=bank['D']\n",
    "\n",
    "kfold = KFold(n_splits = 5 ,shuffle=True,random_state=23)\n",
    "rf=RandomForestClassifier(random_state=23,n_estimators=15)\n",
    "params={'min_samples_split':[2,5,20,80,100],'max_depth':[3,4,6,7,None],'min_samples_leaf':[1,5,10,20],'max_features':[3,6,9,11,13]}\n",
    "gcv=GridSearchCV(rf,param_grid=params,scoring='neg_log_loss')\n",
    "gcv.fit(x,y)\n",
    "print(gcv.best_params_)\n",
    "print(gcv.best_score_)"
   ]
  },
  {
   "cell_type": "markdown",
   "id": "2d23ecd1",
   "metadata": {},
   "source": [
    "# Using Decision Tree"
   ]
  },
  {
   "cell_type": "code",
   "execution_count": 18,
   "id": "a4eecee9",
   "metadata": {},
   "outputs": [
    {
     "name": "stdout",
     "output_type": "stream",
     "text": [
      "For Training: {'max_depth': 3, 'min_samples_leaf': 1, 'min_samples_split': 2}\n",
      "For Training: 0.8380116959064328\n"
     ]
    }
   ],
   "source": [
    "bank=pd.read_csv(\"Bankruptcy.csv\",index_col=0)\n",
    "x=bank.drop(['D','YR'],axis=1)\n",
    "y=bank['D']\n",
    "\n",
    "skfold = StratifiedKFold(n_splits=5,shuffle=True,random_state=23)\n",
    "params = {'min_samples_split':[2,5,20,80,100],'max_depth':[3,4,6,7,None],'min_samples_leaf':[1,5,10,20]}\n",
    "dtr=DecisionTreeClassifier(random_state=23,max_depth=2)\n",
    "gcv = GridSearchCV(dtr, param_grid=params,cv=kfold)# write verbose 3 when we want to details\n",
    "gcv.fit(x_train,y_train)\n",
    "print(\"For Training:\",gcv.best_params_)\n",
    "print(\"For Training:\",gcv.best_score_)"
   ]
  },
  {
   "cell_type": "markdown",
   "id": "0328e302",
   "metadata": {},
   "source": [
    "# Using Support Vector Machine"
   ]
  },
  {
   "cell_type": "code",
   "execution_count": 30,
   "id": "5c03f442",
   "metadata": {},
   "outputs": [
    {
     "name": "stdout",
     "output_type": "stream",
     "text": [
      "Accuracy_Score: 0.725\n"
     ]
    }
   ],
   "source": [
    "bank = pd.read_csv(\"Bankruptcy.csv\", index_col=0)\n",
    "X = bank.drop(['D', 'YR'], axis=1)\n",
    "y = bank['D']\n",
    "\n",
    "X_train, X_test, y_train, y_test = train_test_split(X,y, \n",
    "                               test_size=0.3,\n",
    "                               stratify=y,\n",
    "                               random_state=23)\n",
    "\n",
    "### Standard Scaler\n",
    "std_scaler = StandardScaler()\n",
    "svm = SVC(kernel='linear',probability=True)\n",
    "pipe_std = Pipeline([('SCL', std_scaler), ('SVM', svm)])\n",
    "pipe_std.fit(X_train, y_train)\n",
    "y_pred = pipe_std.predict(X_test)\n",
    "print(\"Accuracy_Score:\",accuracy_score(y_test, y_pred))"
   ]
  }
 ],
 "metadata": {
  "kernelspec": {
   "display_name": "Python 3 (ipykernel)",
   "language": "python",
   "name": "python3"
  },
  "language_info": {
   "codemirror_mode": {
    "name": "ipython",
    "version": 3
   },
   "file_extension": ".py",
   "mimetype": "text/x-python",
   "name": "python",
   "nbconvert_exporter": "python",
   "pygments_lexer": "ipython3",
   "version": "3.11.5"
  }
 },
 "nbformat": 4,
 "nbformat_minor": 5
}
