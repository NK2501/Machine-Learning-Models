{
 "cells": [
  {
   "cell_type": "code",
   "execution_count": 1,
   "metadata": {},
   "outputs": [],
   "source": [
    "import numpy as np \n",
    "import pandas as pd\n",
    "import matplotlib.pyplot as plt \n",
    "from sklearn.preprocessing import StandardScaler,MinMaxScaler\n",
    "from sklearn.model_selection import train_test_split,KFold,GridSearchCV\n",
    "from sklearn.pipeline import Pipeline\n",
    "from sklearn.neighbors import KNeighborsRegressor\n",
    "from sklearn.metrics import mean_absolute_error,mean_squared_error,r2_score\n",
    "import warnings\n",
    "warnings.filterwarnings('ignore')"
   ]
  },
  {
   "cell_type": "markdown",
   "metadata": {},
   "source": [
    "# Meical Cost Personal"
   ]
  },
  {
   "cell_type": "code",
   "execution_count": 2,
   "metadata": {},
   "outputs": [
    {
     "name": "stdout",
     "output_type": "stream",
     "text": [
      "R2 score with KNN :  0.2713707406755661\n",
      "R2 score With Stardard Scaling KNN :  -0.8810810583322275\n",
      "R2 score With Minmax Scaling KNN :  -0.8810810583322275\n",
      "R2 score With Stardard Scaling KNN with Pipeline :  0.11141999187642992\n",
      "R2 score With Minmax Scaling KNN with Pipeline :  0.31391756444821206\n",
      "Best Parameters using KNN with pipeline :  {'n_neighbors': 7}\n",
      "Best R2 score using KNN with pipeline :  0.2722257242532621\n",
      "Best Parameters using KNN and Standard Scaling with pipeline :  {'KNN__n_neighbors': 5}\n",
      "Best R2 score using KNN and Standard Scaling  with pipeline :  0.7924808766581807\n",
      "Best Parameters using KNN and Minmax Scaling with pipeline :  {'KNN__n_neighbors': 5}\n",
      "Best R2 score using KNN and Minmax Scaling  with pipeline :  0.7616282165883503\n"
     ]
    }
   ],
   "source": [
    "insurance = pd.read_csv(r'D:\\Datawork\\Practical Machine Learning\\Cases\\Medical Cost Personal\\insurance.csv')\n",
    "dum_insu = pd.get_dummies(insurance,prefix='x',prefix_sep=\"_\")\n",
    "x = dum_insu.drop('charges',axis=1)\n",
    "y = dum_insu['charges']\n",
    "\n",
    "x_train,x_test,y_train,y_test = train_test_split(x,y,test_size=0.3,random_state=23)\n",
    "knn_reg = KNeighborsRegressor(n_neighbors=3)\n",
    "knn_reg.fit(x_train,y_train)\n",
    "y_pred = knn_reg.predict(x_test)\n",
    "print(\"R2 score with KNN : \",r2_score(y_test,y_pred))\n",
    "\n",
    "#Using Standard Scalar\n",
    "std_scalar = StandardScaler()\n",
    "std_scalar.fit(x_train,y_train)\n",
    "x_scl_train = std_scalar.transform(x_train)\n",
    "x_scl_test = std_scalar.transform(x_test)\n",
    "y_pred = knn_reg.predict(x_scl_test)\n",
    "print(\"R2 score With Stardard Scaling KNN : \",r2_score(y_test,y_pred))\n",
    "\n",
    "#Using MinMax Scalar\n",
    "mm_scalar = MinMaxScaler()\n",
    "mm_scalar.fit(x_train,y_train)\n",
    "x_scl_train = mm_scalar.transform(x_train)\n",
    "x_scl_test = mm_scalar.transform(x_test)\n",
    "y_pred = knn_reg.predict(x_scl_test)\n",
    "print(\"R2 score With Minmax Scaling KNN : \",r2_score(y_test,y_pred))\n",
    "\n",
    "#Using Standard Scalar with Pipeline\n",
    "pipe_std = Pipeline([('SCL',std_scalar),('KNN',knn_reg)])\n",
    "pipe_std.fit(x_train,y_train)\n",
    "y_pred = pipe_std.predict(x_scl_test)\n",
    "print(\"R2 score With Stardard Scaling KNN with Pipeline : \",r2_score(y_test,y_pred))\n",
    "\n",
    "#Using MinMax Scalar with Pipeline\n",
    "pipe_mm = Pipeline([('MM',mm_scalar),('KNN',knn_reg)])\n",
    "pipe_mm.fit(x_train,y_train)\n",
    "y_pred = pipe_mm.predict(x_scl_test)\n",
    "print(\"R2 score With Minmax Scaling KNN with Pipeline : \",r2_score(y_test,y_pred))\n",
    "\n",
    "#GridSearchCV\n",
    "kfold = KFold(n_splits=5, shuffle=True, random_state=23)\n",
    "params = {'n_neighbors' : [1,3,5,7,9,11,13,15,17,19,21,23,25,27,29,31]}\n",
    "gcv = GridSearchCV(knn_reg, param_grid=params,cv =kfold)\n",
    "gcv.fit(x,y)\n",
    "print(\"Best Parameters using KNN with pipeline : \", gcv.best_params_)\n",
    "print(\"Best R2 score using KNN with pipeline : \", gcv.best_score_)\n",
    "\n",
    "#Using Standard Scalar and GridSearchCV with Pipeline\n",
    "pipe_std = Pipeline([('SCL',std_scalar),('KNN',knn_reg)])\n",
    "params = {'KNN__n_neighbors' : [1,3,5,7,9,11,13,15,17,19,21,23,25,27,29,31]}\n",
    "gcv = GridSearchCV(pipe_std, param_grid=params,cv =kfold)\n",
    "gcv.fit(x,y)\n",
    "print(\"Best Parameters using KNN and Standard Scaling with pipeline : \", gcv.best_params_)\n",
    "print(\"Best R2 score using KNN and Standard Scaling  with pipeline : \", gcv.best_score_)\n",
    "\n",
    "#Using MinMax Scalar and GridSearchCV with Pipeline\n",
    "pipe_mm = Pipeline([('MM',mm_scalar),('KNN',knn_reg)])\n",
    "params = {'KNN__n_neighbors' : [1,3,5,7,9,11,13,15,17,19,21,23,25,27,29,31]}\n",
    "gcv = GridSearchCV(pipe_mm, param_grid=params,cv =kfold)\n",
    "gcv.fit(x,y)\n",
    "print(\"Best Parameters using KNN and Minmax Scaling with pipeline : \", gcv.best_params_)\n",
    "print(\"Best R2 score using KNN and Minmax Scaling  with pipeline : \", gcv.best_score_)"
   ]
  },
  {
   "cell_type": "code",
   "execution_count": null,
   "metadata": {},
   "outputs": [],
   "source": []
  },
  {
   "cell_type": "markdown",
   "metadata": {},
   "source": [
    "# Concrete Strength"
   ]
  },
  {
   "cell_type": "code",
   "execution_count": 3,
   "metadata": {},
   "outputs": [
    {
     "name": "stdout",
     "output_type": "stream",
     "text": [
      "R2 score with KNN :  0.6972705849865954\n",
      "R2 score With Stardard Scaling KNN :  -0.2563706254545275\n",
      "R2 score With Minmax Scaling KNN :  -0.2563706254545275\n",
      "R2 score With Stardard Scaling KNN with Pipeline :  -1.0362368712405696\n",
      "R2 score With Minmax Scaling KNN with Pipeline :  -6.2307902854996655e-06\n",
      "Best Parameters using KNN with pipeline :  {'n_neighbors': 1}\n",
      "Best R2 score using KNN with pipeline :  0.7149885402998049\n",
      "Best Parameters using KNN and Standard Scaling with pipeline :  {'KNN__n_neighbors': 5}\n",
      "Best R2 score using KNN and Standard Scaling  with pipeline :  0.7130846921126409\n",
      "Best Parameters using KNN and Minmax Scaling with pipeline :  {'KNN__n_neighbors': 3}\n",
      "Best R2 score using KNN and Minmax Scaling  with pipeline :  0.6912152648447859\n"
     ]
    }
   ],
   "source": [
    "conc_str = pd.read_csv(r'D:\\Datawork\\Practical Machine Learning\\Cases\\Concrete Strength\\Concrete_Data.csv')\n",
    "\n",
    "x = conc_str.drop('Strength',axis=1)\n",
    "y = conc_str['Strength']\n",
    "\n",
    "x_train,x_test,y_train,y_test = train_test_split(x,y,test_size=0.3,random_state=23)\n",
    "knn_reg = KNeighborsRegressor(n_neighbors=3)\n",
    "knn_reg.fit(x_train,y_train)\n",
    "y_pred = knn_reg.predict(x_test)\n",
    "print(\"R2 score with KNN : \",r2_score(y_test,y_pred))\n",
    "\n",
    "#Using Standard Scalar\n",
    "std_scalar = StandardScaler()\n",
    "std_scalar.fit(x_train,y_train)\n",
    "x_scl_train = std_scalar.transform(x_train)\n",
    "x_scl_test = std_scalar.transform(x_test)\n",
    "y_pred = knn_reg.predict(x_scl_test)\n",
    "print(\"R2 score With Stardard Scaling KNN : \",r2_score(y_test,y_pred))\n",
    "\n",
    "#Using MinMax Scalar\n",
    "mm_scalar = MinMaxScaler()\n",
    "mm_scalar.fit(x_train,y_train)\n",
    "x_scl_train = mm_scalar.transform(x_train)\n",
    "x_scl_test = mm_scalar.transform(x_test)\n",
    "y_pred = knn_reg.predict(x_scl_test)\n",
    "print(\"R2 score With Minmax Scaling KNN : \",r2_score(y_test,y_pred))\n",
    "\n",
    "#Using Standard Scalar with Pipeline\n",
    "pipe_std = Pipeline([('SCL',std_scalar),('KNN',knn_reg)])\n",
    "pipe_std.fit(x_train,y_train)\n",
    "y_pred = pipe_std.predict(x_scl_test)\n",
    "print(\"R2 score With Stardard Scaling KNN with Pipeline : \",r2_score(y_test,y_pred))\n",
    "\n",
    "#Using MinMax Scalar with Pipeline\n",
    "pipe_mm = Pipeline([('MM',mm_scalar),('KNN',knn_reg)])\n",
    "pipe_mm.fit(x_train,y_train)\n",
    "y_pred = pipe_mm.predict(x_scl_test)\n",
    "print(\"R2 score With Minmax Scaling KNN with Pipeline : \",r2_score(y_test,y_pred))\n",
    "\n",
    "#GridSearchCV\n",
    "kfold = KFold(n_splits=5, shuffle=True, random_state=23)\n",
    "params = {'n_neighbors' : [1,3,5,7,9,11,13,15,17,19,21,23,25,27,29,31]}\n",
    "gcv = GridSearchCV(knn_reg, param_grid=params,cv =kfold)\n",
    "gcv.fit(x,y)\n",
    "print(\"Best Parameters using KNN with pipeline : \", gcv.best_params_)\n",
    "print(\"Best R2 score using KNN with pipeline : \", gcv.best_score_)\n",
    "\n",
    "#Using Standard Scalar and GridSearchCV with Pipeline\n",
    "pipe_std = Pipeline([('SCL',std_scalar),('KNN',knn_reg)])\n",
    "params = {'KNN__n_neighbors' : [1,3,5,7,9,11,13,15,17,19,21,23,25,27,29,31]}\n",
    "gcv = GridSearchCV(pipe_std, param_grid=params,cv =kfold)\n",
    "gcv.fit(x,y)\n",
    "print(\"Best Parameters using KNN and Standard Scaling with pipeline : \", gcv.best_params_)\n",
    "print(\"Best R2 score using KNN and Standard Scaling  with pipeline : \", gcv.best_score_)\n",
    "\n",
    "#Using MinMax Scalar and GridSearchCV with Pipeline\n",
    "pipe_mm = Pipeline([('MM',mm_scalar),('KNN',knn_reg)])\n",
    "params = {'KNN__n_neighbors' : [1,3,5,7,9,11,13,15,17,19,21,23,25,27,29,31]}\n",
    "gcv = GridSearchCV(pipe_mm, param_grid=params,cv =kfold)\n",
    "gcv.fit(x,y)\n",
    "print(\"Best Parameters using KNN and Minmax Scaling with pipeline : \", gcv.best_params_)\n",
    "print(\"Best R2 score using KNN and Minmax Scaling  with pipeline : \", gcv.best_score_)"
   ]
  },
  {
   "cell_type": "code",
   "execution_count": null,
   "metadata": {},
   "outputs": [],
   "source": []
  }
 ],
 "metadata": {
  "kernelspec": {
   "display_name": "Python 3 (ipykernel)",
   "language": "python",
   "name": "python3"
  },
  "language_info": {
   "codemirror_mode": {
    "name": "ipython",
    "version": 3
   },
   "file_extension": ".py",
   "mimetype": "text/x-python",
   "name": "python",
   "nbconvert_exporter": "python",
   "pygments_lexer": "ipython3",
   "version": "3.11.5"
  }
 },
 "nbformat": 4,
 "nbformat_minor": 2
}
