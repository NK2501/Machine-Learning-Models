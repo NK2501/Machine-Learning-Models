{
 "cells": [
  {
   "cell_type": "code",
   "execution_count": 2,
   "id": "20eb54b5",
   "metadata": {},
   "outputs": [
    {
     "name": "stdout",
     "output_type": "stream",
     "text": [
      "Defaulting to user installation because normal site-packages is not writeable\n",
      "Collecting mlxtend\n",
      "  Obtaining dependency information for mlxtend from https://files.pythonhosted.org/packages/73/da/d5d77a9a7a135c948dbf8d3b873655b105a152d69e590150c83d23c3d070/mlxtend-0.23.0-py3-none-any.whl.metadata\n",
      "  Downloading mlxtend-0.23.0-py3-none-any.whl.metadata (7.3 kB)\n",
      "Requirement already satisfied: scipy>=1.2.1 in c:\\programdata\\anaconda3\\lib\\site-packages (from mlxtend) (1.11.1)\n",
      "Requirement already satisfied: numpy>=1.16.2 in c:\\programdata\\anaconda3\\lib\\site-packages (from mlxtend) (1.24.3)\n",
      "Requirement already satisfied: pandas>=0.24.2 in c:\\programdata\\anaconda3\\lib\\site-packages (from mlxtend) (2.0.3)\n",
      "Requirement already satisfied: scikit-learn>=1.0.2 in c:\\programdata\\anaconda3\\lib\\site-packages (from mlxtend) (1.3.0)\n",
      "Requirement already satisfied: matplotlib>=3.0.0 in c:\\programdata\\anaconda3\\lib\\site-packages (from mlxtend) (3.7.2)\n",
      "Requirement already satisfied: joblib>=0.13.2 in c:\\programdata\\anaconda3\\lib\\site-packages (from mlxtend) (1.2.0)\n",
      "Requirement already satisfied: contourpy>=1.0.1 in c:\\programdata\\anaconda3\\lib\\site-packages (from matplotlib>=3.0.0->mlxtend) (1.0.5)\n",
      "Requirement already satisfied: cycler>=0.10 in c:\\programdata\\anaconda3\\lib\\site-packages (from matplotlib>=3.0.0->mlxtend) (0.11.0)\n",
      "Requirement already satisfied: fonttools>=4.22.0 in c:\\programdata\\anaconda3\\lib\\site-packages (from matplotlib>=3.0.0->mlxtend) (4.25.0)\n",
      "Requirement already satisfied: kiwisolver>=1.0.1 in c:\\programdata\\anaconda3\\lib\\site-packages (from matplotlib>=3.0.0->mlxtend) (1.4.4)\n",
      "Requirement already satisfied: packaging>=20.0 in c:\\programdata\\anaconda3\\lib\\site-packages (from matplotlib>=3.0.0->mlxtend) (23.1)\n",
      "Requirement already satisfied: pillow>=6.2.0 in c:\\programdata\\anaconda3\\lib\\site-packages (from matplotlib>=3.0.0->mlxtend) (9.4.0)\n",
      "Requirement already satisfied: pyparsing<3.1,>=2.3.1 in c:\\programdata\\anaconda3\\lib\\site-packages (from matplotlib>=3.0.0->mlxtend) (3.0.9)\n",
      "Requirement already satisfied: python-dateutil>=2.7 in c:\\programdata\\anaconda3\\lib\\site-packages (from matplotlib>=3.0.0->mlxtend) (2.8.2)\n",
      "Requirement already satisfied: pytz>=2020.1 in c:\\programdata\\anaconda3\\lib\\site-packages (from pandas>=0.24.2->mlxtend) (2023.3.post1)\n",
      "Requirement already satisfied: tzdata>=2022.1 in c:\\programdata\\anaconda3\\lib\\site-packages (from pandas>=0.24.2->mlxtend) (2023.3)\n",
      "Requirement already satisfied: threadpoolctl>=2.0.0 in c:\\programdata\\anaconda3\\lib\\site-packages (from scikit-learn>=1.0.2->mlxtend) (2.2.0)\n",
      "Requirement already satisfied: six>=1.5 in c:\\programdata\\anaconda3\\lib\\site-packages (from python-dateutil>=2.7->matplotlib>=3.0.0->mlxtend) (1.16.0)\n",
      "Downloading mlxtend-0.23.0-py3-none-any.whl (1.4 MB)\n",
      "   ---------------------------------------- 0.0/1.4 MB ? eta -:--:--\n",
      "   ---------------------------------------- 0.0/1.4 MB ? eta -:--:--\n",
      "    --------------------------------------- 0.0/1.4 MB 640.0 kB/s eta 0:00:03\n",
      "   ---- ----------------------------------- 0.2/1.4 MB 2.1 MB/s eta 0:00:01\n",
      "   -------- ------------------------------- 0.3/1.4 MB 3.2 MB/s eta 0:00:01\n",
      "   ------------- -------------------------- 0.5/1.4 MB 2.8 MB/s eta 0:00:01\n",
      "   ------------------- -------------------- 0.7/1.4 MB 3.4 MB/s eta 0:00:01\n",
      "   ------------------------ --------------- 0.9/1.4 MB 3.3 MB/s eta 0:00:01\n",
      "   ------------------------------- -------- 1.1/1.4 MB 3.6 MB/s eta 0:00:01\n",
      "   --------------------------------- ------ 1.2/1.4 MB 3.4 MB/s eta 0:00:01\n",
      "   -------------------------------------- - 1.4/1.4 MB 3.4 MB/s eta 0:00:01\n",
      "   ---------------------------------------  1.4/1.4 MB 3.4 MB/s eta 0:00:01\n",
      "   ---------------------------------------  1.4/1.4 MB 3.4 MB/s eta 0:00:01\n",
      "   ---------------------------------------- 1.4/1.4 MB 2.8 MB/s eta 0:00:00\n",
      "Installing collected packages: mlxtend\n",
      "Successfully installed mlxtend-0.23.0\n",
      "Note: you may need to restart the kernel to use updated packages.\n"
     ]
    }
   ],
   "source": [
    "pip install mlxtend"
   ]
  },
  {
   "cell_type": "code",
   "execution_count": 2,
   "id": "f71c879b",
   "metadata": {},
   "outputs": [],
   "source": [
    "import pandas as pd\n",
    "import matplotlib.pylab as plt\n",
    "from mlxtend.frequent_patterns import apriori,association_rules"
   ]
  },
  {
   "cell_type": "code",
   "execution_count": 8,
   "id": "72b54e8e",
   "metadata": {},
   "outputs": [
    {
     "name": "stdout",
     "output_type": "stream",
     "text": [
      "       antecedents     consequents  support  confidence      lift\n",
      "0          (White)           (Red)      0.4    0.571429  0.952381\n",
      "1            (Red)         (White)      0.4    0.666667  0.952381\n",
      "2           (Blue)           (Red)      0.4    0.666667  1.111111\n",
      "3            (Red)          (Blue)      0.4    0.666667  1.111111\n",
      "4          (Green)           (Red)      0.2    1.000000  1.666667\n",
      "5            (Red)         (Green)      0.2    0.333333  1.666667\n",
      "6          (White)          (Blue)      0.4    0.571429  0.952381\n",
      "7           (Blue)         (White)      0.4    0.666667  0.952381\n",
      "8         (Orange)         (White)      0.2    1.000000  1.428571\n",
      "9          (Green)         (White)      0.2    1.000000  1.428571\n",
      "10   (White, Blue)           (Red)      0.2    0.500000  0.833333\n",
      "11    (White, Red)          (Blue)      0.2    0.500000  0.833333\n",
      "12     (Blue, Red)         (White)      0.2    0.500000  0.714286\n",
      "13          (Blue)    (White, Red)      0.2    0.333333  0.833333\n",
      "14           (Red)   (White, Blue)      0.2    0.333333  0.833333\n",
      "15  (White, Green)           (Red)      0.2    1.000000  1.666667\n",
      "16    (White, Red)         (Green)      0.2    0.500000  2.500000\n",
      "17    (Green, Red)         (White)      0.2    1.000000  1.428571\n",
      "18         (Green)    (White, Red)      0.2    1.000000  2.500000\n",
      "19           (Red)  (White, Green)      0.2    0.333333  1.666667\n"
     ]
    }
   ],
   "source": [
    "fp_df=pd.read_csv(\"Faceplate.csv\",index_col=0)\n",
    "fp_df=fp_df.astype(bool)\n",
    "itemsets=apriori(fp_df,min_support=0.2,use_colnames=True)\n",
    "rules=association_rules(itemsets,min_threshold=0.3)#threshold set the boundry \n",
    "rules=rules[['antecedents','consequents','support','confidence','lift']]\n",
    "print(rules)"
   ]
  },
  {
   "cell_type": "code",
   "execution_count": null,
   "id": "d922d1ee",
   "metadata": {},
   "outputs": [],
   "source": []
  }
 ],
 "metadata": {
  "kernelspec": {
   "display_name": "Python 3 (ipykernel)",
   "language": "python",
   "name": "python3"
  },
  "language_info": {
   "codemirror_mode": {
    "name": "ipython",
    "version": 3
   },
   "file_extension": ".py",
   "mimetype": "text/x-python",
   "name": "python",
   "nbconvert_exporter": "python",
   "pygments_lexer": "ipython3",
   "version": "3.11.5"
  }
 },
 "nbformat": 4,
 "nbformat_minor": 5
}
