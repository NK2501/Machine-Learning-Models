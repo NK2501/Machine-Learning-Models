{
 "cells": [
  {
   "cell_type": "code",
   "execution_count": 2,
   "id": "f7a5dd46",
   "metadata": {},
   "outputs": [],
   "source": [
    "import pandas as pd\n",
    "import numpy as np\n",
    "from sklearn.linear_model import LinearRegression\n",
    "import matplotlib.pyplot as plt\n",
    "import seaborn as sns\n",
    "from sklearn.metrics import r2_score\n",
    "from sklearn.model_selection import train_test_split\n",
    "from sklearn.metrics import mean_absolute_error as mae\n",
    "from sklearn.metrics import mean_squared_error as mse\n",
    "from sklearn.linear_model import Ridge\n",
    "from sklearn.linear_model import Lasso\n",
    "from sklearn.linear_model import ElasticNet\n",
    "from sklearn.model_selection import KFold\n",
    "from sklearn.model_selection import cross_val_score\n",
    "from sklearn.model_selection import GridSearchCV\n",
    "import warnings\n",
    "warnings.filterwarnings(\"ignore\")\n",
    "from sklearn.preprocessing import StandardScaler\n",
    "from sklearn.preprocessing import MinMaxScaler\n",
    "from sklearn.metrics import confusion_matrix\n",
    "from sklearn.metrics import ConfusionMatrixDisplay,classification_report\n",
    "from sklearn.linear_model import LogisticRegression\n",
    "from sklearn.metrics import accuracy_score,log_loss\n",
    "from sklearn.model_selection import StratifiedKFold\n",
    "from sklearn.model_selection import GridSearchCV\n",
    "from sklearn.metrics import roc_auc_score,roc_curve\n",
    "from sklearn.neighbors import KNeighborsClassifier\n",
    "from sklearn.neighbors import KNeighborsRegressor\n",
    "from sklearn.pipeline import Pipeline\n",
    "from sklearn.svm import SVC\n",
    "from sklearn.naive_bayes import GaussianNB\n",
    "from sklearn.naive_bayes import GaussianNB\n",
    "from sklearn.discriminant_analysis import LinearDiscriminantAnalysis\n",
    "from sklearn.discriminant_analysis import QuadraticDiscriminantAnalysis\n",
    "from sklearn.tree import DecisionTreeClassifier\n",
    "from sklearn.model_selection import train_test_split\n",
    "from sklearn.metrics import accuracy_score, log_loss\n",
    "from sklearn.tree import DecisionTreeClassifier,plot_tree,DecisionTreeRegressor\n",
    "from sklearn.preprocessing import LabelEncoder\n",
    "from sklearn.ensemble import GradientBoostingClassifier\n",
    "from sklearn.ensemble import VotingClassifier,VotingRegressor,BaggingClassifier,RandomForestClassifier,BaggingRegressor,RandomForestRegressor"
   ]
  },
  {
   "cell_type": "code",
   "execution_count": 6,
   "id": "701254c8",
   "metadata": {},
   "outputs": [
    {
     "name": "stdout",
     "output_type": "stream",
     "text": [
      "Accuracy_Score: 0.8871051268772656\n",
      "Log_loss: 0.30895232014332363\n"
     ]
    }
   ],
   "source": [
    "sat=pd.read_csv(\"Satellite.csv\", sep=\";\")\n",
    "\n",
    "x=sat.drop('classes',axis=1)\n",
    "y=sat['classes']\n",
    "\n",
    "lda = LinearDiscriminantAnalysis()\n",
    "qda = QuadraticDiscriminantAnalysis()\n",
    "nb = GaussianNB()\n",
    "dtc = DecisionTreeClassifier(random_state=23)\n",
    "gbr = GradientBoostingClassifier(random_state=23)\n",
    "\n",
    "x_train, x_test, y_train, y_test = train_test_split(x,y, \n",
    "                               test_size=0.3,\n",
    "                               stratify=y,\n",
    "                               random_state=23)\n",
    "\n",
    "stack = StackingClassifier(estimators=[('NB',nb),('LDA', lda),('QDA', qda),('TREE', dtc)], final_estimator=gbr,n_jobs=-1)\n",
    "stack.fit(x_train, y_train) # all train set operations\n",
    "y_pred = stack.predict(x_test) # all test operations\n",
    "print(\"Accuracy_Score:\",accuracy_score(y_test, y_pred))\n",
    "y_pred_prob = stack.predict_proba(x_test)\n",
    "print(\"Log_loss:\",log_loss(y_test,y_pred_prob))"
   ]
  },
  {
   "cell_type": "code",
   "execution_count": 8,
   "id": "276400bf",
   "metadata": {},
   "outputs": [
    {
     "name": "stdout",
     "output_type": "stream",
     "text": [
      "{'cv': None, 'estimators': [('LR', LogisticRegression()), ('LDA', LinearDiscriminantAnalysis()), ('TREE', DecisionTreeClassifier(random_state=23))], 'final_estimator__bootstrap': True, 'final_estimator__ccp_alpha': 0.0, 'final_estimator__class_weight': None, 'final_estimator__criterion': 'gini', 'final_estimator__max_depth': None, 'final_estimator__max_features': 'sqrt', 'final_estimator__max_leaf_nodes': None, 'final_estimator__max_samples': None, 'final_estimator__min_impurity_decrease': 0.0, 'final_estimator__min_samples_leaf': 1, 'final_estimator__min_samples_split': 2, 'final_estimator__min_weight_fraction_leaf': 0.0, 'final_estimator__n_estimators': 25, 'final_estimator__n_jobs': None, 'final_estimator__oob_score': False, 'final_estimator__random_state': 23, 'final_estimator__verbose': 0, 'final_estimator__warm_start': False, 'final_estimator': RandomForestClassifier(n_estimators=25, random_state=23), 'n_jobs': None, 'passthrough': False, 'stack_method': 'auto', 'verbose': 0, 'LR': LogisticRegression(), 'LDA': LinearDiscriminantAnalysis(), 'TREE': DecisionTreeClassifier(random_state=23), 'LR__C': 1.0, 'LR__class_weight': None, 'LR__dual': False, 'LR__fit_intercept': True, 'LR__intercept_scaling': 1, 'LR__l1_ratio': None, 'LR__max_iter': 100, 'LR__multi_class': 'auto', 'LR__n_jobs': None, 'LR__penalty': 'l2', 'LR__random_state': None, 'LR__solver': 'lbfgs', 'LR__tol': 0.0001, 'LR__verbose': 0, 'LR__warm_start': False, 'LDA__covariance_estimator': None, 'LDA__n_components': None, 'LDA__priors': None, 'LDA__shrinkage': None, 'LDA__solver': 'svd', 'LDA__store_covariance': False, 'LDA__tol': 0.0001, 'TREE__ccp_alpha': 0.0, 'TREE__class_weight': None, 'TREE__criterion': 'gini', 'TREE__max_depth': None, 'TREE__max_features': None, 'TREE__max_leaf_nodes': None, 'TREE__min_impurity_decrease': 0.0, 'TREE__min_samples_leaf': 1, 'TREE__min_samples_split': 2, 'TREE__min_weight_fraction_leaf': 0.0, 'TREE__random_state': 23, 'TREE__splitter': 'best'}\n",
      "{'LR__C': 0.5, 'TREE__max_depth': 5, 'final_estimator__max_features': 5, 'passthrough': True}\n",
      "-0.3964193022905335\n"
     ]
    }
   ],
   "source": [
    "bank=pd.read_csv(\"Bankruptcy.csv\",index_col=0)\n",
    "x=bank.drop('D',axis=1)\n",
    "y=bank['D']\n",
    "\n",
    "lr=LogisticRegression()\n",
    "lda = LinearDiscriminantAnalysis()\n",
    "dtc=dtc = DecisionTreeClassifier(random_state=23)\n",
    "rf=RandomForestClassifier(random_state=23,n_estimators=25)\n",
    "stack=StackingClassifier(estimators=[('LR',lr),\n",
    "                                   ('LDA',lda),\n",
    "                                   ('TREE',dtc)],\n",
    "                        final_estimator=rf)\n",
    "\n",
    "params={'LR__C':[0.1,0.5,1,2],\n",
    "       'TREE__max_depth':[None,3,5],\n",
    "       'final_estimator__max_features':[2,5,10],\n",
    "       'passthrough':[True,False]}\n",
    "\n",
    "kfold=StratifiedKFold(n_splits=5,shuffle=True,random_state=23)\n",
    "gcv=GridSearchCV(stack,param_grid=params,cv=kfold,scoring='neg_log_loss')\n",
    "gcv.fit(x,y)\n",
    "print(gcv.best_params_)\n",
    "print(gcv.best_score_)"
   ]
  }
 ],
 "metadata": {
  "kernelspec": {
   "display_name": "Python 3 (ipykernel)",
   "language": "python",
   "name": "python3"
  },
  "language_info": {
   "codemirror_mode": {
    "name": "ipython",
    "version": 3
   },
   "file_extension": ".py",
   "mimetype": "text/x-python",
   "name": "python",
   "nbconvert_exporter": "python",
   "pygments_lexer": "ipython3",
   "version": "3.11.5"
  }
 },
 "nbformat": 4,
 "nbformat_minor": 5
}
