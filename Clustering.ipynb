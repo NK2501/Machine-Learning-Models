{
 "cells": [
  {
   "cell_type": "markdown",
   "id": "b7c55338",
   "metadata": {},
   "source": [
    "# Aggolomerative Clustering"
   ]
  },
  {
   "cell_type": "code",
   "execution_count": 2,
   "id": "f882b8e6",
   "metadata": {},
   "outputs": [],
   "source": [
    "import pandas as pd\n",
    "import numpy as np\n",
    "import matplotlib.pyplot as plt\n",
    "from scipy.cluster.hierarchy import linkage\n",
    "from sklearn.preprocessing import StandardScaler\n",
    "from sklearn.cluster import AgglomerativeClustering,KMeans\n",
    "from sklearn.metrics import silhouette_score\n",
    "import warnings\n",
    "warnings.filterwarnings(\"ignore\")"
   ]
  },
  {
   "cell_type": "markdown",
   "id": "8ada6028",
   "metadata": {},
   "source": [
    "# Milk Dataset"
   ]
  },
  {
   "cell_type": "code",
   "execution_count": 29,
   "id": "0d19aedd",
   "metadata": {},
   "outputs": [],
   "source": [
    "milk=pd.read_csv(\"milk.csv\",index_col=0)"
   ]
  },
  {
   "cell_type": "code",
   "execution_count": 30,
   "id": "94a1fd2d",
   "metadata": {},
   "outputs": [
    {
     "name": "stdout",
     "output_type": "stream",
     "text": [
      "[2 2 2 2 2 2 2 2 0 0 2 2 2 0 2 2 0 2 0 0 0 0 0 1 1]\n",
      "0.48757649189546187\n"
     ]
    }
   ],
   "source": [
    "scaler=StandardScaler()\n",
    "milkscaled=scaler.fit_transform(milk)\n",
    "\n",
    "linkage_method=\"average\"\n",
    "clust=AgglomerativeClustering(n_clusters=3,linkage=linkage_method)#with number of 3 cluster\n",
    "clust.fit(milkscaled)\n",
    "print(clust.labels_)\n",
    "print(silhouette_score(milkscaled,clust.labels_))"
   ]
  },
  {
   "cell_type": "code",
   "execution_count": 31,
   "id": "d08d8644",
   "metadata": {},
   "outputs": [
    {
     "name": "stdout",
     "output_type": "stream",
     "text": [
      "[0 0 0 0 0 0 0 0 0 0 0 0 0 0 0 0 0 0 0 0 0 0 0 1 1]\n",
      "0.5186847578981009\n"
     ]
    }
   ],
   "source": [
    "scaler=StandardScaler()\n",
    "milkscaled=scaler.fit_transform(milk)\n",
    "\n",
    "linkage_method=\"average\"\n",
    "clust=AgglomerativeClustering(n_clusters=2,linkage=linkage_method)# With number of 2 cluster\n",
    "clust.fit(milkscaled)\n",
    "print(clust.labels_)\n",
    "print(silhouette_score(milkscaled,clust.labels_))"
   ]
  },
  {
   "cell_type": "code",
   "execution_count": 32,
   "id": "a1867087",
   "metadata": {},
   "outputs": [
    {
     "name": "stdout",
     "output_type": "stream",
     "text": [
      "[0 0 0 0 0 0 0 0 0 0 0 0 0 0 0 0 0 0 0 0 0 0 0 1 1]\n",
      "0.5186847578981009\n",
      "[2 2 2 2 2 2 2 2 0 0 2 2 2 0 2 2 0 2 0 0 0 0 0 1 1]\n",
      "0.48757649189546187\n",
      "[0 0 0 0 0 0 0 0 1 1 0 0 0 1 0 0 1 0 2 1 2 2 2 3 3]\n",
      "0.41601538367376095\n",
      "[2 2 2 2 2 2 2 2 1 1 2 2 2 1 2 2 1 4 0 1 0 0 0 3 3]\n",
      "0.3830100222472541\n"
     ]
    }
   ],
   "source": [
    "# For Differnt Number OF Cluster[2,3,4,5]\n",
    "milk=pd.read_csv(\"milk.csv\",index_col=0)\n",
    "scaler=StandardScaler()\n",
    "milkscaled=scaler.fit_transform(milk)\n",
    "\n",
    "for i in [2,3,4,5]:\n",
    "    clust = AgglomerativeClustering(n_clusters=i,linkage='average')\n",
    "    clust.fit(milkscaled)\n",
    "    print(clust.labels_)\n",
    "    print(silhouette_score(milkscaled,clust.labels_))"
   ]
  },
  {
   "cell_type": "code",
   "execution_count": 33,
   "id": "3dcd1a1e",
   "metadata": {},
   "outputs": [
    {
     "name": "stdout",
     "output_type": "stream",
     "text": [
      "[0 0 0 0 0 0 0 0 0 0 0 0 0 0 0 0 2 0 2 2 2 2 2 1 1]\n",
      "0.5391595072079529\n"
     ]
    }
   ],
   "source": [
    "scaler=StandardScaler()\n",
    "milkscaled=scaler.fit_transform(milk)\n",
    "\n",
    "linkage_method=\"average\"\n",
    "clust=KMeans(n_clusters=3)# With number of 2 cluster\n",
    "clust.fit(milkscaled)\n",
    "print(clust.labels_)\n",
    "print(silhouette_score(milkscaled,clust.labels_))"
   ]
  },
  {
   "cell_type": "markdown",
   "id": "0baf4687",
   "metadata": {},
   "source": [
    "# Using K-Mean Clustering"
   ]
  },
  {
   "cell_type": "code",
   "execution_count": 39,
   "id": "3087041a",
   "metadata": {},
   "outputs": [
    {
     "name": "stdout",
     "output_type": "stream",
     "text": [
      "[1 1 1 1 1 1 1 1 1 1 1 1 1 1 1 1 0 1 0 0 0 0 0 0 0]\n",
      "0.5258508931703421\n",
      "[1 1 1 1 1 1 1 1 2 2 1 1 1 2 1 1 2 1 2 2 2 2 2 0 0]\n",
      "0.48757649189546187\n",
      "[0 0 0 0 0 0 0 3 3 3 3 0 0 3 0 3 3 0 1 1 1 1 1 2 2]\n",
      "0.4355891993570169\n",
      "[2 2 2 2 2 0 0 0 3 3 0 0 2 3 0 0 3 0 4 3 4 4 4 1 1]\n",
      "0.40926029392635116\n",
      "[0 0 0 0 0 5 5 5 1 1 5 5 0 1 5 5 1 5 3 4 4 4 4 2 2]\n",
      "0.386462010908779\n",
      "[6 6 6 6 6 1 1 1 3 3 1 1 6 3 1 1 3 5 2 4 4 4 4 0 0]\n",
      "0.3987803295589405\n"
     ]
    }
   ],
   "source": [
    "# For Differnt Number OF Cluster[2,3,4,5]\n",
    "milk=pd.read_csv(\"milk.csv\",index_col=0)\n",
    "scaler=StandardScaler()\n",
    "milkscaled=scaler.fit_transform(milk)\n",
    "\n",
    "for i in [2,3,4,5,6,7]:\n",
    "    clust=KMeans(n_clusters=i)\n",
    "    clust.fit(milkscaled)\n",
    "    print(clust.labels_)\n",
    "    print(silhouette_score(milkscaled,clust.labels_))"
   ]
  },
  {
   "cell_type": "code",
   "execution_count": 40,
   "id": "97c5553c",
   "metadata": {},
   "outputs": [
    {
     "name": "stdout",
     "output_type": "stream",
     "text": [
      "Best Score: 0.3987803295589405\n",
      "Best No.of Clusters: 2\n"
     ]
    }
   ],
   "source": [
    "Ks=[2,3,4,5,6,7]\n",
    "scores=[]\n",
    "for k in Ks:\n",
    "    clust=KMeans(n_clusters=i)\n",
    "    clust.fit(milkscaled)\n",
    "    scores.append(silhouette_score(milkscaled,clust.labels_))\n",
    "    \n",
    "i_max=np.argmax(scores)\n",
    "best_k=Ks[i_max]\n",
    "print(\"Best Score:\",scores[i_max])\n",
    "print(\"Best No.of Clusters:\",best_k)"
   ]
  },
  {
   "cell_type": "code",
   "execution_count": 44,
   "id": "c6e12074",
   "metadata": {},
   "outputs": [
    {
     "name": "stdout",
     "output_type": "stream",
     "text": [
      "[0 0 0 0 0 0 0 0 0 0 0 0 0 0 0 0 1 0 1 1 1 1 1 2 2]\n"
     ]
    },
    {
     "data": {
      "text/html": [
       "<div>\n",
       "<style scoped>\n",
       "    .dataframe tbody tr th:only-of-type {\n",
       "        vertical-align: middle;\n",
       "    }\n",
       "\n",
       "    .dataframe tbody tr th {\n",
       "        vertical-align: top;\n",
       "    }\n",
       "\n",
       "    .dataframe thead th {\n",
       "        text-align: right;\n",
       "    }\n",
       "</style>\n",
       "<table border=\"1\" class=\"dataframe\">\n",
       "  <thead>\n",
       "    <tr style=\"text-align: right;\">\n",
       "      <th></th>\n",
       "      <th>water</th>\n",
       "      <th>protein</th>\n",
       "      <th>fat</th>\n",
       "      <th>lactose</th>\n",
       "      <th>ash</th>\n",
       "    </tr>\n",
       "    <tr>\n",
       "      <th>Clust</th>\n",
       "      <th></th>\n",
       "      <th></th>\n",
       "      <th></th>\n",
       "      <th></th>\n",
       "      <th></th>\n",
       "    </tr>\n",
       "  </thead>\n",
       "  <tbody>\n",
       "    <tr>\n",
       "      <th>0</th>\n",
       "      <td>85.158824</td>\n",
       "      <td>4.235294</td>\n",
       "      <td>4.964706</td>\n",
       "      <td>5.147059</td>\n",
       "      <td>0.635294</td>\n",
       "    </tr>\n",
       "    <tr>\n",
       "      <th>1</th>\n",
       "      <td>69.266667</td>\n",
       "      <td>10.500000</td>\n",
       "      <td>16.066667</td>\n",
       "      <td>2.483333</td>\n",
       "      <td>1.566667</td>\n",
       "    </tr>\n",
       "    <tr>\n",
       "      <th>2</th>\n",
       "      <td>45.650000</td>\n",
       "      <td>10.150000</td>\n",
       "      <td>38.450000</td>\n",
       "      <td>0.450000</td>\n",
       "      <td>0.690000</td>\n",
       "    </tr>\n",
       "  </tbody>\n",
       "</table>\n",
       "</div>"
      ],
      "text/plain": [
       "           water    protein        fat   lactose       ash\n",
       "Clust                                                     \n",
       "0      85.158824   4.235294   4.964706  5.147059  0.635294\n",
       "1      69.266667  10.500000  16.066667  2.483333  1.566667\n",
       "2      45.650000  10.150000  38.450000  0.450000  0.690000"
      ]
     },
     "execution_count": 44,
     "metadata": {},
     "output_type": "execute_result"
    }
   ],
   "source": [
    "clust = KMeans(n_clusters=3)\n",
    "clust.fit(milkscaled)\n",
    "print(clust.labels_)\n",
    "\n",
    "milk_clust = milk.copy()\n",
    "milk_clust['Clust'] = clust.labels_\n",
    "milk_clust.sort_values('Clust')\n",
    "\n",
    "#Centroids\n",
    "milk_clust.groupby('Clust').mean()"
   ]
  },
  {
   "cell_type": "code",
   "execution_count": 45,
   "id": "61785ecd",
   "metadata": {},
   "outputs": [
    {
     "name": "stdout",
     "output_type": "stream",
     "text": [
      "Best Score :  0.8810549232046082\n",
      "Best No. of clusters :  16\n"
     ]
    },
    {
     "data": {
      "image/png": "[encoded data removed]",
      "text/plain": [
       "<Figure size 640x480 with 1 Axes>"
      ]
     },
     "metadata": {},
     "output_type": "display_data"
    }
   ],
   "source": [
    "scores = []\n",
    "ks = [2,3,4,5,6,7,8,9,10,11,12,13,14,15,16]\n",
    "for k in ks:\n",
    "    clust = KMeans(n_clusters=k)\n",
    "    clust.fit(milkscaled)\n",
    "    scores.append(clust.inertia_)\n",
    "    \n",
    "i_min = np.argmin(scores)\n",
    "best_k = ks[i_min]\n",
    "print(\"Best Score : \", scores[i_min])\n",
    "print(\"Best No. of clusters : \",best_k)\n",
    "\n",
    "plt.scatter(ks,scores,c=\"red\")\n",
    "plt.plot(ks,scores)\n",
    "plt.xlabel(\"no. of Clusters\")\n",
    "plt.ylabel(\"WSS\")\n",
    "plt.title(\"Scree plot\")\n",
    "plt.show()"
   ]
  },
  {
   "cell_type": "markdown",
   "id": "0415f978",
   "metadata": {},
   "source": [
    "# US Arrest"
   ]
  },
  {
   "cell_type": "code",
   "execution_count": 62,
   "id": "a287362c",
   "metadata": {},
   "outputs": [
    {
     "name": "stdout",
     "output_type": "stream",
     "text": [
      "Best Score :  0.8229591719073736\n",
      "Best No. of clusters :  16\n"
     ]
    },
    {
     "data": {
      "image/png": "[encoded data removed]",
      "text/plain": [
       "<Figure size 640x480 with 1 Axes>"
      ]
     },
     "metadata": {},
     "output_type": "display_data"
    }
   ],
   "source": [
    "ua = pd.read_csv(\"USArrests.csv\",index_col=0)\n",
    "scaler = StandardScaler()\n",
    "uascaled = scaler.fit_transform(ua)\n",
    "\n",
    "clust = KMeans(n_clusters=3)\n",
    "clust.fit(uascaled)\n",
    "\n",
    "scores = []\n",
    "ks = [2,3,4,5,6,7,8,9,10,11,12,13,14,15,16]\n",
    "for k in ks:\n",
    "    clust = KMeans(n_clusters=k)\n",
    "    clust.fit(milkscaled)\n",
    "    scores.append(clust.inertia_)\n",
    "    \n",
    "i_min = np.argmin(scores)\n",
    "best_k = ks[i_min]\n",
    "print(\"Best Score : \", scores[i_min])\n",
    "print(\"Best No. of clusters : \",best_k)\n",
    "\n",
    "plt.scatter(ks,scores,c=\"red\")\n",
    "plt.plot(ks,scores)\n",
    "plt.xlabel(\"No. of Clusters\")\n",
    "plt.ylabel(\"WSS\")\n",
    "plt.title(\"Scree plot\")\n",
    "plt.show()"
   ]
  },
  {
   "cell_type": "code",
   "execution_count": 64,
   "id": "bcd257f0",
   "metadata": {},
   "outputs": [
    {
     "name": "stdout",
     "output_type": "stream",
     "text": [
      "[[0.5, 2, 0.6481878697705626], [0.8, 3, 0.3181176425374543], [0.8, 2, 0.3279344306871734], [1, 3, 0.3395677965591881], [1, 2, 0.3395677965591881], [1, 4, 0.4160914171480962]]\n"
     ]
    }
   ],
   "source": [
    "# Loop For tuning\n",
    "\n",
    "eps=[0.5,0.8,1,1.5]\n",
    "min_pts=[3,2,4]\n",
    "params=[]\n",
    "for e in eps:\n",
    "    for m in min_pts:\n",
    "        clust=DBSCAN(eps=e,min_samples=m)\n",
    "        clust.fit(uascaled)\n",
    "        uascale=pd.DataFrame(uascaled,columns=ua.columns) \n",
    "        ua_clust=uascale.copy()\n",
    "        ua_clust['Clust']=clust.labels_\n",
    "        ua_clust_wo=ua_clust[ua_clust['Clust']>-1]\n",
    "        if len (ua_clust_wo['Clust'].unique())>1:\n",
    "            score=silhouette_score(ua_clust_wo.iloc[:,:-1],ua_clust_wo['Clust'])\n",
    "            params.append([e,m,score])\n",
    "print(params)\n",
    "        "
   ]
  },
  {
   "cell_type": "markdown",
   "id": "8707c035",
   "metadata": {},
   "source": [
    "# DBSCAN"
   ]
  },
  {
   "cell_type": "code",
   "execution_count": 4,
   "id": "faec80ee",
   "metadata": {},
   "outputs": [],
   "source": [
    "from sklearn.cluster import DBSCAN"
   ]
  },
  {
   "cell_type": "code",
   "execution_count": 54,
   "id": "96a5356c",
   "metadata": {},
   "outputs": [],
   "source": [
    "milk=pd.read_csv(\"milk.csv\",index_col=0)"
   ]
  },
  {
   "cell_type": "code",
   "execution_count": 55,
   "id": "91495e84",
   "metadata": {},
   "outputs": [
    {
     "name": "stdout",
     "output_type": "stream",
     "text": [
      "[ 0  0  0  0 -1  2  2  1 -1 -1  1  2  0 -1  2  1 -1 -1 -1 -1 -1 -1 -1 -1\n",
      " -1]\n"
     ]
    }
   ],
   "source": [
    "sacler=StandardScaler()\n",
    "milkscaled=scaler.fit_transform(milk)\n",
    "clust=DBSCAN(eps=0.5,min_samples=3)\n",
    "clust.fit(milkscaled)\n",
    "print(clust.labels_)"
   ]
  },
  {
   "cell_type": "code",
   "execution_count": 56,
   "id": "f6d962d4",
   "metadata": {},
   "outputs": [
    {
     "name": "stdout",
     "output_type": "stream",
     "text": [
      "0.5344431042454363\n"
     ]
    }
   ],
   "source": [
    "milkscaled=pd.DataFrame(milkscaled,columns=milk.columns)\n",
    "milk_clust=milkscaled.copy()\n",
    "milk_clust['Clust']=clust.labels_\n",
    "milk_clust_wo=milk_clust[milk_clust['Clust']>-1]\n",
    "print(silhouette_score(milk_clust_wo.iloc[:,:-1],milk_clust_wo['Clust']))"
   ]
  },
  {
   "cell_type": "code",
   "execution_count": 59,
   "id": "21e743d4",
   "metadata": {},
   "outputs": [
    {
     "name": "stdout",
     "output_type": "stream",
     "text": [
      "[[0.5, 3, 0.5344431042454363], [0.5, 2, 0.5934459505692155], [0.8, 3, 0.5330377521235296], [0.8, 2, 0.46467391846010603], [0.8, 4, 0.4571511833668322], [1, 3, 0.6473871775367226], [1, 2, 0.4344818095328392], [1.5, 2, 0.5528890106341011]]\n"
     ]
    }
   ],
   "source": [
    "# Loop For tuning\n",
    "\n",
    "eps=[0.5,0.8,1,1.5]\n",
    "min_pts=[3,2,4]\n",
    "params=[]\n",
    "for e in eps:\n",
    "    for m in min_pts:\n",
    "        clust=DBSCAN(eps=e,min_samples=m)\n",
    "        clust.fit(milkscaled)\n",
    "        milk_clust=milkscaled.copy()\n",
    "        milk_clust['Clust']=clust.labels_\n",
    "        milk_clust_wo=milk_clust[milk_clust['Clust']>-1]\n",
    "        if len (milk_clust_wo['Clust'].unique())>1:\n",
    "            score=silhouette_score(milk_clust_wo.iloc[:,:-1],milk_clust_wo['Clust'])\n",
    "            params.append([e,m,score])\n",
    "print(params)\n",
    "        "
   ]
  },
  {
   "cell_type": "markdown",
   "id": "7868f435",
   "metadata": {},
   "source": [
    "# Assignment On Clustering"
   ]
  },
  {
   "cell_type": "markdown",
   "id": "55dfde79",
   "metadata": {},
   "source": [
    "# 1.\tConsider the dataset Datasets/nutrient.csv. Do the following:\n",
    "a.\tWith sklearn agglomerative clustering find best number of clusters based on Silhouette Score\n",
    "\n",
    "b.\tWith sklearn k-means clustering find best number of clusters based on Silhouette Score\n",
    "\n",
    "c.\tWith sklearn k-means clustering find best number of clusters based on Elbow method with WSS\n"
   ]
  },
  {
   "cell_type": "code",
   "execution_count": 65,
   "id": "29959189",
   "metadata": {},
   "outputs": [],
   "source": [
    "nutrient=pd.read_csv(\"nutrient.csv\",index_col=0)"
   ]
  },
  {
   "cell_type": "code",
   "execution_count": 68,
   "id": "6af29c83",
   "metadata": {},
   "outputs": [
    {
     "name": "stdout",
     "output_type": "stream",
     "text": [
      "[0 0 0 0 0 0 0 0 0 0 0 0 0 0 0 0 0 0 0 0 0 0 0 0 1 0 0]\n",
      "0.41345065968561695\n",
      "[0 0 0 0 0 0 0 0 0 0 0 0 0 0 0 0 2 2 0 0 0 0 0 0 1 0 0]\n",
      "0.44531853755129397\n",
      "[0 0 0 0 0 0 0 3 0 0 0 0 0 0 0 0 2 2 0 0 0 0 0 0 1 0 0]\n",
      "0.3311159158397946\n",
      "[1 0 1 1 0 0 0 3 0 1 1 1 1 0 0 0 2 2 0 0 0 0 0 0 4 0 0]\n",
      "0.4000030856637424\n"
     ]
    }
   ],
   "source": [
    "scaler=StandardScaler()\n",
    "nutrientscaled=scaler.fit_transform(nutrient)\n",
    "\n",
    "scaler=StandardScaler()\n",
    "nutrientscaled=scaler.fit_transform(nutrient)\n",
    "\n",
    "for i in [2,3,4,5]:\n",
    "    clust = AgglomerativeClustering(n_clusters=i,linkage='average')\n",
    "    clust.fit(nutrientscaled)\n",
    "    print(clust.labels_)\n",
    "    print(silhouette_score(nutrientscaled,clust.labels_))"
   ]
  },
  {
   "cell_type": "code",
   "execution_count": 70,
   "id": "0d49c49b",
   "metadata": {},
   "outputs": [
    {
     "name": "stdout",
     "output_type": "stream",
     "text": [
      "[1 1 1 1 0 0 0 0 1 1 1 1 1 0 0 0 0 0 0 0 0 0 0 0 0 0 0]\n",
      "0.32577846240602615\n",
      "[1 1 1 1 0 0 0 0 1 1 1 1 1 0 0 0 2 2 0 0 0 0 0 0 0 0 0]\n",
      "0.4037719788150674\n",
      "[2 0 2 2 0 0 0 0 2 2 2 2 2 0 0 0 3 3 0 0 0 1 0 1 1 0 0]\n",
      "0.41997441967765275\n",
      "[2 1 2 2 1 0 1 1 2 2 2 2 2 1 1 0 3 3 0 0 0 0 0 0 4 1 1]\n",
      "0.39418262779112107\n",
      "[0 2 0 0 2 2 2 5 0 0 0 0 0 2 2 2 4 4 1 1 2 1 1 1 3 2 2]\n",
      "0.3814688639441237\n",
      "[1 2 1 1 2 5 2 6 1 1 1 1 1 5 2 2 3 3 5 5 5 0 5 0 4 2 2]\n",
      "0.3863055806472059\n"
     ]
    }
   ],
   "source": [
    "scaler=StandardScaler()\n",
    "nutrientscaled=scaler.fit_transform(nutrient)\n",
    "\n",
    "scaler=StandardScaler()\n",
    "nutrientscaled=scaler.fit_transform(nutrient)\n",
    "for i in [2,3,4,5,6,7]:\n",
    "    clust=KMeans(n_clusters=i)\n",
    "    clust.fit(nutrientscaled)\n",
    "    print(clust.labels_)\n",
    "    print(silhouette_score(nutrientscaled,clust.labels_))"
   ]
  },
  {
   "cell_type": "code",
   "execution_count": 71,
   "id": "1554b3c6",
   "metadata": {},
   "outputs": [
    {
     "name": "stdout",
     "output_type": "stream",
     "text": [
      "Best Score :  16.591253402778843\n",
      "Best No. of clusters :  16\n"
     ]
    },
    {
     "data": {
      "image/png": "[encoded data removed]",
      "text/plain": [
       "<Figure size 640x480 with 1 Axes>"
      ]
     },
     "metadata": {},
     "output_type": "display_data"
    }
   ],
   "source": [
    "scaler = StandardScaler()\n",
    "nutrientscaled = scaler.fit_transform(ua)\n",
    "\n",
    "clust = KMeans(n_clusters=3)\n",
    "clust.fit(nutrientscaled)\n",
    "\n",
    "scores = []\n",
    "ks = [2,3,4,5,6,7,8,9,10,11,12,13,14,15,16]\n",
    "for k in ks:\n",
    "    clust = KMeans(n_clusters=k)\n",
    "    clust.fit(nutrientscaled)\n",
    "    scores.append(clust.inertia_)\n",
    "    \n",
    "i_min = np.argmin(scores)\n",
    "best_k = ks[i_min]\n",
    "print(\"Best Score : \", scores[i_min])\n",
    "print(\"Best No. of clusters : \",best_k)\n",
    "\n",
    "plt.scatter(ks,scores,c=\"red\")\n",
    "plt.plot(ks,scores)\n",
    "plt.xlabel(\"No. of Clusters\")\n",
    "plt.ylabel(\"WSS\")\n",
    "plt.title(\"Scree plot\")\n",
    "plt.show()"
   ]
  },
  {
   "cell_type": "markdown",
   "id": "b842068d",
   "metadata": {},
   "source": [
    "# 2.\tConsider the dataset Datasets/USArrests.csv. Do the following:\n",
    "a.\tWith sklearn agglomerative clustering find best number of clusters based on Silhouette Score\n",
    "\n",
    "b.\tWith sklearn k-means clustering find best number of clusters based on Silhouette Score\n"
   ]
  },
  {
   "cell_type": "code",
   "execution_count": 82,
   "id": "8a06dc4e",
   "metadata": {},
   "outputs": [
    {
     "name": "stdout",
     "output_type": "stream",
     "text": [
      "[0 0 0 1 0 0 1 1 0 0 1 1 0 1 1 1 1 0 1 0 1 0 1 0 0 1 1 0 1 1 0 0 0 1 1 1 1\n",
      " 1 1 0 1 0 0 1 1 1 1 1 1 1]\n",
      "0.4084890326217641\n",
      "[0 2 0 1 0 0 1 1 0 0 1 1 0 1 1 1 1 0 1 0 1 0 1 0 0 1 1 0 1 1 0 0 0 1 1 1 1\n",
      " 1 1 0 1 0 0 1 1 1 1 1 1 1]\n",
      "0.34863679190476177\n",
      "[3 2 1 0 1 1 0 0 1 3 0 0 1 0 0 0 0 3 0 1 0 1 0 3 1 0 0 1 0 0 1 1 3 0 0 0 0\n",
      " 0 0 3 0 3 1 0 0 0 0 0 0 0]\n",
      "0.3636819420151221\n",
      "[3 2 1 0 1 1 0 0 1 3 0 0 1 0 4 0 0 3 4 1 0 1 0 3 1 0 0 1 4 0 1 1 3 4 0 0 0\n",
      " 0 0 3 4 3 1 0 4 0 0 4 0 0]\n",
      "0.3212682619092323\n",
      "[3 5 0 1 0 0 1 2 0 3 1 1 0 1 4 1 1 3 4 0 2 0 1 3 0 1 1 0 4 2 0 0 3 4 1 1 1\n",
      " 1 2 3 4 3 0 1 4 1 1 4 1 1]\n",
      "0.2719787783719339\n",
      "[3 5 1 0 6 1 0 2 1 3 0 0 1 0 4 0 0 3 4 1 2 1 0 3 1 0 0 6 4 2 1 1 3 4 0 0 0\n",
      " 0 2 3 4 3 1 0 4 0 0 4 0 0]\n",
      "0.2507421522912214\n"
     ]
    }
   ],
   "source": [
    "ua = pd.read_csv(\"USArrests.csv\",index_col=0)\n",
    "scaler = StandardScaler()\n",
    "uascaled = scaler.fit_transform(ua)\n",
    "\n",
    "\n",
    "scores = []\n",
    "ks = [2,3,4,5,6,7]\n",
    "for k in ks:\n",
    "    clust=AgglomerativeClustering(n_clusters=k,linkage=linkage_method)#with number of 3 cluster\n",
    "    clust.fit(uascaled )\n",
    "    print(clust.labels_)\n",
    "    print(silhouette_score(uascaled ,clust.labels_))"
   ]
  },
  {
   "cell_type": "code",
   "execution_count": 83,
   "id": "a8193b2d",
   "metadata": {},
   "outputs": [
    {
     "name": "stdout",
     "output_type": "stream",
     "text": [
      "[1 1 1 0 1 1 0 0 1 1 0 0 1 0 0 0 0 1 0 1 0 1 0 1 1 0 0 1 0 0 1 1 1 0 0 0 0\n",
      " 0 0 1 0 1 1 0 0 0 0 0 0 0]\n",
      "0.4084890326217641\n",
      "[1 1 1 2 1 1 0 0 1 1 0 2 1 0 2 0 2 1 2 1 0 1 2 1 1 2 2 1 2 0 1 1 1 2 0 0 0\n",
      " 0 0 1 2 1 1 0 2 0 0 2 2 0]\n",
      "0.30813622648945616\n",
      "[3 1 1 3 1 1 2 2 1 3 2 0 1 2 0 2 0 3 0 1 2 1 0 3 1 0 0 1 0 2 1 1 3 0 2 2 2\n",
      " 2 2 3 0 3 1 2 0 2 2 0 0 2]\n",
      "0.33968891433344395\n",
      "[3 1 1 2 1 1 4 4 1 3 4 0 1 2 0 2 2 3 0 1 4 1 0 3 1 2 2 1 0 4 1 1 3 0 4 2 2\n",
      " 4 4 3 0 3 1 4 0 2 4 0 0 2]\n",
      "0.2968626678243933\n",
      "[2 5 1 0 5 5 4 4 1 2 4 3 1 0 3 0 0 2 3 1 4 1 0 2 1 0 0 5 3 4 1 1 2 3 0 0 0\n",
      " 0 4 2 3 2 1 4 3 0 0 3 3 0]\n",
      "0.28040292439450826\n",
      "[6 2 5 3 4 4 0 0 5 6 0 1 5 3 1 3 3 6 1 5 0 5 1 6 3 1 1 4 1 0 5 5 6 1 0 3 3\n",
      " 0 0 6 1 6 5 0 1 3 0 1 1 3]\n",
      "0.2863001804759888\n"
     ]
    }
   ],
   "source": [
    "ua = pd.read_csv(\"USArrests.csv\",index_col=0)\n",
    "scaler = StandardScaler()\n",
    "uascaled = scaler.fit_transform(ua)\n",
    "\n",
    "clust = KMeans(n_clusters=3)\n",
    "clust.fit(uascaled)\n",
    "\n",
    "scores = []\n",
    "ks = [2,3,4,5,6,7]\n",
    "for k in ks:\n",
    "    clust = KMeans(n_clusters=k)\n",
    "    clust.fit(uascaled)\n",
    "    print(clust.labels_)\n",
    "    print(silhouette_score(uascaled ,clust.labels_))\n"
   ]
  },
  {
   "cell_type": "markdown",
   "id": "b158f6c6",
   "metadata": {},
   "source": [
    "# 3.\tConsider the dataset in Cases/ Recency Frequency Monetary folder. Considering the columns revenue, number of orders and recency days. Do the following:\n",
    "a.\tWith sklearn k-means clustering find best number of clusters based on Silhouette Score. Try to interpret the cluster centroids\n",
    "\n",
    "b.\tDo DBSCAN clustering and find best epsilon and min points.\n"
   ]
  },
  {
   "cell_type": "code",
   "execution_count": 90,
   "id": "c03ca63b",
   "metadata": {},
   "outputs": [],
   "source": [
    "cust=pd.read_csv(\"rfm_data_customer.csv\",index_col=0) "
   ]
  },
  {
   "cell_type": "code",
   "execution_count": 91,
   "id": "db5888da",
   "metadata": {},
   "outputs": [
    {
     "name": "stdout",
     "output_type": "stream",
     "text": [
      "Best Score: 0.3707186478145492\n",
      "Best No.of Clusters: 3\n",
      "[2 1 2 ... 2 2 1]\n"
     ]
    }
   ],
   "source": [
    "cust=cust.drop('most_recent_visit',axis=1)\n",
    "scaler=StandardScaler()\n",
    "custscaled=scaler.fit_transform(cust)\n",
    "\n",
    "\n",
    "Ks=[2,3,4,5,6,7,8,9,10,11,12,13,14,15,16]\n",
    "scores=[]\n",
    "for k in Ks:\n",
    "    clust=KMeans(n_clusters=k,random_state=23)\n",
    "    clust.fit(custscaled)\n",
    "    scores.append(silhouette_score(custscaled,clust.labels_))\n",
    "    \n",
    "i_max=np.argmax(scores)\n",
    "best_k=Ks[i_max]\n",
    "print(\"Best Score:\",scores[i_max])\n",
    "print(\"Best No.of Clusters:\",best_k)\n",
    "clust = KMeans(n_clusters=best_k)\n",
    "clust.fit(custscaled)\n",
    "print(clust.labels_)"
   ]
  },
  {
   "cell_type": "code",
   "execution_count": 5,
   "id": "45398c7c",
   "metadata": {},
   "outputs": [],
   "source": [
    "rfm1= pd.read_csv(\"rfm_data_customer.csv\",index_col=0)\n",
    "rfm=rfm1.drop(['most_recent_visit'],axis=1)\n",
    "scaler=StandardScaler()\n",
    "\n",
    "rfm_scaled=scaler.fit_transform(rfm)\n",
    "rfm_scaled=pd.DataFrame(rfm_scaled,columns=rfm.columns)\n",
    "epsilon=[(0.1,2)]\n",
    "params=[]\n",
    "for e in epsilon:\n",
    "        \n",
    "        clust=DBSCAN(eps=e[0],min_samples=e[1])\n",
    "        clust.fit(rfm_scaled)\n",
    "        rfm_clust=rfm_scaled.copy()\n",
    "        rfm_clust['Clust']=clust.labels_\n",
    "        rfm_clust_wo=rfm_clust[rfm_clust['Clust']>-1] \n",
    "        if len(rfm_clust_wo['Clust'].unique())>1:\n",
    "            score=silhouette_score(rfm_clust_wo.iloc[:,:-1],rfm_clust_wo['Clust'] )\n",
    "            params.append([e[0],e[1],score])\n",
    "            \n",
    "pd_results= pd.DataFrame(params,columns=['eps','min','score'])"
   ]
  },
  {
   "cell_type": "code",
   "execution_count": 87,
   "id": "bd8d2b58",
   "metadata": {},
   "outputs": [],
   "source": [
    "import pandas as pd\n",
    "import matplotlib.pylab as plt\n",
    "from mlxtend.frequent_patterns import apriori,association_rules"
   ]
  },
  {
   "cell_type": "code",
   "execution_count": 88,
   "id": "08cfdf16",
   "metadata": {},
   "outputs": [
    {
     "name": "stdout",
     "output_type": "stream",
     "text": [
      "                                             antecedents  \\\n",
      "0                                              (Brushes)   \n",
      "1                                              (Mascara)   \n",
      "2                                           (Eye shadow)   \n",
      "3                                         (Brushes, Bag)   \n",
      "4                                         (Bronzer, Bag)   \n",
      "...                                                  ...   \n",
      "20485  (Eyeliner, Blush, Foundation, Lip liner, Bronz...   \n",
      "20486  (Eyeliner, Lip Gloss, Blush, Foundation, Lip l...   \n",
      "20487  (Eyeliner, Blush, Foundation, Eye shadow, Lip ...   \n",
      "20488  (Eyeliner, Blush, Foundation, Lip liner, Bronz...   \n",
      "20489  (Eyeliner, Blush, Foundation, Lip liner, Brush...   \n",
      "\n",
      "                                             consequents  support  confidence  \\\n",
      "0                                          (Nail Polish)    0.149    1.000000   \n",
      "1                                           (Eye shadow)    0.321    0.899160   \n",
      "2                                              (Mascara)    0.321    0.842520   \n",
      "3                                          (Nail Polish)    0.020    1.000000   \n",
      "4                                            (Concealer)    0.019    0.863636   \n",
      "...                                                  ...      ...         ...   \n",
      "20485    (Eye shadow, Concealer, Lip Gloss, Nail Polish)    0.006    1.000000   \n",
      "20486  (Concealer, Eye shadow, Nail Polish, Bronzer, ...    0.006    0.857143   \n",
      "20487  (Lip Gloss, Concealer, Nail Polish, Bronzer, M...    0.006    1.000000   \n",
      "20488  (Lip Gloss, Concealer, Eye shadow, Nail Polish...    0.006    0.857143   \n",
      "20489  (Lip Gloss, Concealer, Eye shadow, Nail Polish...    0.006    1.000000   \n",
      "\n",
      "            lift  \n",
      "0       3.571429  \n",
      "1       2.359999  \n",
      "2       2.359999  \n",
      "3       3.571429  \n",
      "4       1.953928  \n",
      "...          ...  \n",
      "20485  24.390244  \n",
      "20486  17.492711  \n",
      "20487  33.333333  \n",
      "20488  22.556391  \n",
      "20489  33.333333  \n",
      "\n",
      "[20490 rows x 5 columns]\n"
     ]
    }
   ],
   "source": [
    "fp_df=pd.read_csv(\"Cosmetics.csv\",index_col=0)\n",
    "fp_df=fp_df.astype(bool)\n",
    "itemsets=apriori(fp_df,min_support=0.005,use_colnames=True)\n",
    "rules=association_rules(itemsets,min_threshold=0.8)\n",
    "rules=rules[['antecedents','consequents','support','confidence','lift']]\n",
    "print(rules)"
   ]
  },
  {
   "cell_type": "markdown",
   "id": "09d4ac62",
   "metadata": {},
   "source": [
    "# Imputation"
   ]
  },
  {
   "cell_type": "code",
   "execution_count": 93,
   "id": "2fd18bbf",
   "metadata": {},
   "outputs": [
    {
     "name": "stdout",
     "output_type": "stream",
     "text": [
      "     A     B\n",
      "0  1.0  10.0\n",
      "1  2.0   NaN\n",
      "2  NaN  30.0\n",
      "3  4.0  40.0\n",
      "4  5.0  50.0\n"
     ]
    }
   ],
   "source": [
    "import pandas as pd\n",
    "from sklearn.impute import SimpleImputer\n",
    "\n",
    "\n",
    "data={'A':[1,2,None,4,5],\n",
    "     'B':[10,None,30,40,50]}\n",
    "df=pd.DataFrame(data)\n",
    "\n",
    "imputer=SimpleImputer(strategy='most_frequent')# Null Values Filling With Mode\n",
    "df_imputed=pd.DataFrame(imputer.fit_transform(df),columns=df.columns)\n",
    "print(df)"
   ]
  },
  {
   "cell_type": "code",
   "execution_count": 94,
   "id": "e5eedfe5",
   "metadata": {},
   "outputs": [
    {
     "name": "stdout",
     "output_type": "stream",
     "text": [
      "     A     B\n",
      "0  1.0  10.0\n",
      "1  2.0  10.0\n",
      "2  1.0  30.0\n",
      "3  4.0  40.0\n",
      "4  5.0  50.0\n"
     ]
    }
   ],
   "source": [
    "print(df_imputed)"
   ]
  },
  {
   "cell_type": "code",
   "execution_count": 97,
   "id": "b77568d0",
   "metadata": {},
   "outputs": [
    {
     "name": "stdout",
     "output_type": "stream",
     "text": [
      "     A     B\n",
      "0  1.0  10.0\n",
      "1  2.0  32.5\n",
      "2  3.0  30.0\n",
      "3  4.0  40.0\n",
      "4  5.0  50.0\n"
     ]
    }
   ],
   "source": [
    "imputer=SimpleImputer(strategy='mean')# Null Value Filling with Mean\n",
    "df_imputed=pd.DataFrame(imputer.fit_transform(df),columns=df.columns)\n",
    "print(df_imputed)"
   ]
  },
  {
   "cell_type": "code",
   "execution_count": 98,
   "id": "e7f145dc",
   "metadata": {},
   "outputs": [
    {
     "name": "stdout",
     "output_type": "stream",
     "text": [
      "     A     B\n",
      "0  1.0  10.0\n",
      "1  2.0  35.0\n",
      "2  3.0  30.0\n",
      "3  4.0  40.0\n",
      "4  5.0  50.0\n"
     ]
    }
   ],
   "source": [
    "imputer=SimpleImputer(strategy='median')# Null Value Filling with Mean\n",
    "df_imputed=pd.DataFrame(imputer.fit_transform(df),columns=df.columns)\n",
    "print(df_imputed)"
   ]
  },
  {
   "cell_type": "code",
   "execution_count": 99,
   "id": "c9962fb4",
   "metadata": {},
   "outputs": [
    {
     "name": "stdout",
     "output_type": "stream",
     "text": [
      "     A     B\n",
      "0  1.0  10.0\n",
      "1  2.0  32.5\n",
      "2  3.0  30.0\n",
      "3  4.0  40.0\n",
      "4  5.0  50.0\n"
     ]
    }
   ],
   "source": [
    "imputer=SimpleImputer()# If we not given any stratergy value then bydefault it fill with the mean \n",
    "df_imputed=pd.DataFrame(imputer.fit_transform(df),columns=df.columns)\n",
    "print(df_imputed)"
   ]
  },
  {
   "cell_type": "code",
   "execution_count": 6,
   "id": "c27be464",
   "metadata": {},
   "outputs": [],
   "source": [
    "from mlxtend.preprocessing import TransactionEncoder"
   ]
  },
  {
   "cell_type": "code",
   "execution_count": 13,
   "id": "0d7293c1",
   "metadata": {},
   "outputs": [],
   "source": [
    "groceries=[]\n",
    "with open(\"groceries.csv\",\"r\") as f:groceries = f.read()\n",
    "groceries = groceries.split(\"\\n\")\n",
    "groceries_list = []\n",
    "for i in groceries:\n",
    "    groceries_list.append(i.split(\",\"))\n",
    "\n",
    "te = TransactionEncoder()\n",
    "te_ary = te.fit(groceries_list).transform(groceries_list)\n",
    "fp_df = pd.DataFrame(te_ary,columns = te.columns_)"
   ]
  },
  {
   "cell_type": "code",
   "execution_count": null,
   "id": "f9667b01",
   "metadata": {},
   "outputs": [],
   "source": []
  }
 ],
 "metadata": {
  "kernelspec": {
   "display_name": "Python 3 (ipykernel)",
   "language": "python",
   "name": "python3"
  },
  "language_info": {
   "codemirror_mode": {
    "name": "ipython",
    "version": 3
   },
   "file_extension": ".py",
   "mimetype": "text/x-python",
   "name": "python",
   "nbconvert_exporter": "python",
   "pygments_lexer": "ipython3",
   "version": "3.11.5"
  }
 },
 "nbformat": 4,
 "nbformat_minor": 5
}
